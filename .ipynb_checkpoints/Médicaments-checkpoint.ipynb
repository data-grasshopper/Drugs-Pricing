{
 "cells": [
  {
   "cell_type": "code",
   "execution_count": 1,
   "metadata": {
    "collapsed": false
   },
   "outputs": [
    {
     "name": "stdout",
     "output_type": "stream",
     "text": [
      "Populating the interactive namespace from numpy and matplotlib\n"
     ]
    }
   ],
   "source": [
    "%pylab inline"
   ]
  },
  {
   "cell_type": "code",
   "execution_count": 190,
   "metadata": {
    "collapsed": false
   },
   "outputs": [],
   "source": [
    "import pandas as pd\n",
    "import numpy as np\n",
    "import time"
   ]
  },
  {
   "cell_type": "code",
   "execution_count": 605,
   "metadata": {
    "collapsed": false
   },
   "outputs": [],
   "source": [
    "df = pd.read_csv('boites_medicaments_train.csv', sep = \";\")\n",
    "test = pd.read_csv('boites_medicaments_test.csv', sep = \";\")"
   ]
  },
  {
   "cell_type": "code",
   "execution_count": 58,
   "metadata": {
    "collapsed": false
   },
   "outputs": [
    {
     "data": {
      "text/plain": [
       "((8564, 41), (3671, 41))"
      ]
     },
     "execution_count": 58,
     "metadata": {},
     "output_type": "execute_result"
    }
   ],
   "source": [
    "train.shape, test.shape"
   ]
  },
  {
   "cell_type": "code",
   "execution_count": 606,
   "metadata": {
    "collapsed": false
   },
   "outputs": [
    {
     "data": {
      "text/html": [
       "<div>\n",
       "<table border=\"1\" class=\"dataframe\">\n",
       "  <thead>\n",
       "    <tr style=\"text-align: right;\">\n",
       "      <th></th>\n",
       "      <th>libelle</th>\n",
       "      <th>libelle_plaquette</th>\n",
       "      <th>libelle_ampoule</th>\n",
       "      <th>libelle_flacon</th>\n",
       "      <th>libelle_tube</th>\n",
       "      <th>libelle_stylo</th>\n",
       "      <th>libelle_seringue</th>\n",
       "      <th>libelle_pilulier</th>\n",
       "      <th>libelle_sachet</th>\n",
       "      <th>libelle_comprime</th>\n",
       "      <th>...</th>\n",
       "      <th>tx rembours</th>\n",
       "      <th>forme pharma</th>\n",
       "      <th>voies admin</th>\n",
       "      <th>statut admin</th>\n",
       "      <th>date declar annee</th>\n",
       "      <th>date amm annee</th>\n",
       "      <th>type proc</th>\n",
       "      <th>titulaires</th>\n",
       "      <th>substances</th>\n",
       "      <th>prix</th>\n",
       "    </tr>\n",
       "  </thead>\n",
       "  <tbody>\n",
       "    <tr>\n",
       "      <th>0</th>\n",
       "      <td>3 plaquette(s) thermoformée(s) PVC-Aluminium d...</td>\n",
       "      <td>1</td>\n",
       "      <td>0</td>\n",
       "      <td>0</td>\n",
       "      <td>0</td>\n",
       "      <td>0</td>\n",
       "      <td>0</td>\n",
       "      <td>0</td>\n",
       "      <td>0</td>\n",
       "      <td>1</td>\n",
       "      <td>...</td>\n",
       "      <td>65%</td>\n",
       "      <td>comprimé pelliculé</td>\n",
       "      <td>orale</td>\n",
       "      <td>Autorisation active</td>\n",
       "      <td>2014</td>\n",
       "      <td>2014</td>\n",
       "      <td>Procédure décentralisée</td>\n",
       "      <td>MAJORELLE LUXEMBOURG SOPARFI (LUXEMBOURG)</td>\n",
       "      <td>DÉSOGESTREL</td>\n",
       "      <td>2.83</td>\n",
       "    </tr>\n",
       "    <tr>\n",
       "      <th>1</th>\n",
       "      <td>plaquette(s) thermoformée(s) aluminium de 28 c...</td>\n",
       "      <td>1</td>\n",
       "      <td>0</td>\n",
       "      <td>0</td>\n",
       "      <td>0</td>\n",
       "      <td>0</td>\n",
       "      <td>0</td>\n",
       "      <td>0</td>\n",
       "      <td>0</td>\n",
       "      <td>1</td>\n",
       "      <td>...</td>\n",
       "      <td>65%</td>\n",
       "      <td>comprimé à croquer</td>\n",
       "      <td>orale</td>\n",
       "      <td>Autorisation active</td>\n",
       "      <td>2013</td>\n",
       "      <td>2009</td>\n",
       "      <td>Procédure de reconnaissance mutuelle</td>\n",
       "      <td>TEVA SANTE</td>\n",
       "      <td>MONTÉLUKAST ACIDE, MONTÉLUKAST SODIQUE</td>\n",
       "      <td>14.30</td>\n",
       "    </tr>\n",
       "  </tbody>\n",
       "</table>\n",
       "<p>2 rows × 41 columns</p>\n",
       "</div>"
      ],
      "text/plain": [
       "                                             libelle  libelle_plaquette  \\\n",
       "0  3 plaquette(s) thermoformée(s) PVC-Aluminium d...                  1   \n",
       "1  plaquette(s) thermoformée(s) aluminium de 28 c...                  1   \n",
       "\n",
       "   libelle_ampoule  libelle_flacon  libelle_tube  libelle_stylo  \\\n",
       "0                0               0             0              0   \n",
       "1                0               0             0              0   \n",
       "\n",
       "   libelle_seringue  libelle_pilulier  libelle_sachet  libelle_comprime  \\\n",
       "0                 0                 0               0                 1   \n",
       "1                 0                 0               0                 1   \n",
       "\n",
       "   ...    tx rembours        forme pharma  voies admin         statut admin  \\\n",
       "0  ...            65%  comprimé pelliculé        orale  Autorisation active   \n",
       "1  ...            65%  comprimé à croquer        orale  Autorisation active   \n",
       "\n",
       "   date declar annee  date amm annee                             type proc  \\\n",
       "0               2014            2014               Procédure décentralisée   \n",
       "1               2013            2009  Procédure de reconnaissance mutuelle   \n",
       "\n",
       "                                   titulaires  \\\n",
       "0   MAJORELLE LUXEMBOURG SOPARFI (LUXEMBOURG)   \n",
       "1                                  TEVA SANTE   \n",
       "\n",
       "                               substances   prix  \n",
       "0                             DÉSOGESTREL   2.83  \n",
       "1  MONTÉLUKAST ACIDE, MONTÉLUKAST SODIQUE  14.30  \n",
       "\n",
       "[2 rows x 41 columns]"
      ]
     },
     "execution_count": 606,
     "metadata": {},
     "output_type": "execute_result"
    }
   ],
   "source": [
    "df.head(2)"
   ]
  },
  {
   "cell_type": "code",
   "execution_count": 15,
   "metadata": {
    "collapsed": false
   },
   "outputs": [
    {
     "data": {
      "text/plain": [
       "['libelle',\n",
       " 'libelle_plaquette',\n",
       " 'libelle_ampoule',\n",
       " 'libelle_flacon',\n",
       " 'libelle_tube',\n",
       " 'libelle_stylo',\n",
       " 'libelle_seringue',\n",
       " 'libelle_pilulier',\n",
       " 'libelle_sachet',\n",
       " 'libelle_comprime',\n",
       " 'libelle_gelule',\n",
       " 'libelle_film',\n",
       " 'libelle_poche',\n",
       " 'libelle_capsule',\n",
       " 'nb_plaquette',\n",
       " 'nb_ampoule',\n",
       " 'nb_flacon',\n",
       " 'nb_tube',\n",
       " 'nb_stylo',\n",
       " 'nb_seringue',\n",
       " 'nb_pilulier',\n",
       " 'nb_sachet',\n",
       " 'nb_comprime',\n",
       " 'nb_gelule',\n",
       " 'nb_film',\n",
       " 'nb_poche',\n",
       " 'nb_capsule',\n",
       " 'nb_ml',\n",
       " 'statut',\n",
       " 'etat commerc',\n",
       " 'agrement col',\n",
       " 'tx rembours',\n",
       " 'forme pharma',\n",
       " 'voies admin',\n",
       " 'statut admin',\n",
       " 'date declar annee',\n",
       " 'date amm annee',\n",
       " 'type proc',\n",
       " 'titulaires',\n",
       " 'substances',\n",
       " 'prix']"
      ]
     },
     "execution_count": 15,
     "metadata": {},
     "output_type": "execute_result"
    }
   ],
   "source": [
    "df.columns.tolist()"
   ]
  },
  {
   "cell_type": "code",
   "execution_count": 618,
   "metadata": {
    "collapsed": false
   },
   "outputs": [
    {
     "data": {
      "text/plain": [
       "count    8564.000000\n",
       "mean       13.955735\n",
       "std       103.283123\n",
       "min         0.000000\n",
       "25%         0.000000\n",
       "50%         0.000000\n",
       "75%         0.000000\n",
       "max      2400.000000\n",
       "Name: nb_ml, dtype: float64"
      ]
     },
     "execution_count": 618,
     "metadata": {},
     "output_type": "execute_result"
    }
   ],
   "source": [
    "df.nb_ml.describe()"
   ]
  },
  {
   "cell_type": "code",
   "execution_count": 17,
   "metadata": {
    "collapsed": true
   },
   "outputs": [],
   "source": [
    "target = df['prix']"
   ]
  },
  {
   "cell_type": "code",
   "execution_count": 20,
   "metadata": {
    "collapsed": false
   },
   "outputs": [
    {
     "data": {
      "text/plain": [
       "Présentation active     8554\n",
       "Présentation abrogée      10\n",
       "Name: statut, dtype: int64"
      ]
     },
     "execution_count": 20,
     "metadata": {},
     "output_type": "execute_result"
    }
   ],
   "source": [
    "df.statut.value_counts()"
   ]
  },
  {
   "cell_type": "code",
   "execution_count": 22,
   "metadata": {
    "collapsed": false
   },
   "outputs": [
    {
     "data": {
      "text/plain": [
       "Déclaration de commercialisation                                      7262\n",
       "Déclaration d'arrêt de commercialisation                              1250\n",
       "Arrêt de commercialisation (le médicament n'a plus d'autorisation)      51\n",
       "Déclaration de suspension de commercialisation                           1\n",
       "Name: etat commerc, dtype: int64"
      ]
     },
     "execution_count": 22,
     "metadata": {},
     "output_type": "execute_result"
    }
   ],
   "source": [
    "df['etat commerc'].value_counts()"
   ]
  },
  {
   "cell_type": "code",
   "execution_count": 24,
   "metadata": {
    "collapsed": false
   },
   "outputs": [
    {
     "data": {
      "text/plain": [
       "oui    7022\n",
       "non    1542\n",
       "Name: agrement col, dtype: int64"
      ]
     },
     "execution_count": 24,
     "metadata": {},
     "output_type": "execute_result"
    }
   ],
   "source": [
    "df['agrement col'].value_counts()"
   ]
  },
  {
   "cell_type": "code",
   "execution_count": 26,
   "metadata": {
    "collapsed": false
   },
   "outputs": [
    {
     "data": {
      "text/plain": [
       "65%     7175\n",
       "30%      656\n",
       "15%      393\n",
       "100%     339\n",
       "0%         1\n",
       "Name: tx rembours, dtype: int64"
      ]
     },
     "execution_count": 26,
     "metadata": {},
     "output_type": "execute_result"
    }
   ],
   "source": [
    "df['tx rembours'].value_counts()"
   ]
  },
  {
   "cell_type": "code",
   "execution_count": 31,
   "metadata": {
    "collapsed": false
   },
   "outputs": [
    {
     "data": {
      "text/plain": [
       "comprimé pelliculé                                                      1931\n",
       "comprimé                                                                1017\n",
       "comprimé sécable                                                         812\n",
       "comprimé pelliculé sécable                                               669\n",
       "gélule                                                                   639\n",
       "solution injectable                                                      496\n",
       "gélule gastro-résistant(e)                                               256\n",
       "gélule à libération prolongée                                            175\n",
       "comprimé gastro-résistant(e)                                             160\n",
       "comprimé orodispersible                                                  136\n",
       "poudre pour suspension buvable                                           124\n",
       "solution buvable                                                         109\n",
       "comprimé pelliculé à libération prolongée                                102\n",
       "comprimé à libération prolongée                                           99\n",
       "collyre en solution                                                       99\n",
       "dispositif                                                                92\n",
       "comprimé enrobé                                                           91\n",
       "poudre et  solvant pour solution injectable                               90\n",
       "crème                                                                     66\n",
       "gel                                                                       65\n",
       "solution pour perfusion                                                   63\n",
       "comprimé quadrisécable                                                    50\n",
       "suspension injectable                                                     44\n",
       "comprimé effervescent(e)                                                  43\n",
       "comprimé dispersible                                                      40\n",
       "comprimé à libération modifiée                                            38\n",
       "capsule molle                                                             37\n",
       "suspension buvable                                                        36\n",
       "collyre                                                                   36\n",
       "sirop                                                                     34\n",
       "                                                                        ... \n",
       "poudre pour suspension pour administration intravésicale                   1\n",
       "solution pour application stérile                                          1\n",
       "granulés gastro-résistant(e)                                               1\n",
       "poudre et  solvant pour suspension pour administration intravésicale       1\n",
       "poudre et  solvant pour inhalation par nébuliseur                          1\n",
       "poudre pour solution pour irrigation vésical(e)                            1\n",
       "pâte                                                                       1\n",
       "solution pour pulvérisation endo-buccal(e)                                 1\n",
       "poudre et  solvant pour collyre en solution                                1\n",
       "comprimé orodispersible dispersible                                        1\n",
       "comprimé ou à sucer à croquer                                              1\n",
       "solution moussant(e)                                                       1\n",
       "poudre et  solvant pour suspension pour instillation                       1\n",
       "poudre pour suspension ou                                                  1\n",
       "comprimé pelliculé et  comprimé pelliculé et  comprimé pelliculé           1\n",
       "poudre et  solution pour solution injectable                               1\n",
       "solution ou                                                                1\n",
       "solution buvable et injectable                                             1\n",
       "lotion                                                                     1\n",
       "comprimé à sucer sécable                                                   1\n",
       "mousse                                                                     1\n",
       "pansement adhésif(ve)                                                      1\n",
       "émulsion et  solution et  solution pour perfusion                          1\n",
       "poudre et  solvant pour dispersion injectable                              1\n",
       "poudre pour solution buvable et gastro-entérale                            1\n",
       "comprimé enrobé à croquer                                                  1\n",
       "mousse pour application                                                    1\n",
       "pilule enrobé                                                              1\n",
       "poudre buvable effervescent(e) pour suspension                             1\n",
       "poudre pour inhalation et  poudre pour inhalation                          1\n",
       "Name: forme pharma, dtype: int64"
      ]
     },
     "execution_count": 31,
     "metadata": {},
     "output_type": "execute_result"
    }
   ],
   "source": [
    "df['forme pharma'].value_counts()"
   ]
  },
  {
   "cell_type": "code",
   "execution_count": 41,
   "metadata": {
    "collapsed": false
   },
   "outputs": [
    {
     "data": {
      "text/plain": [
       "(75,)"
      ]
     },
     "execution_count": 41,
     "metadata": {},
     "output_type": "execute_result"
    }
   ],
   "source": [
    "df['voies admin'].value_counts().shape"
   ]
  },
  {
   "cell_type": "code",
   "execution_count": 43,
   "metadata": {
    "collapsed": false
   },
   "outputs": [
    {
     "data": {
      "text/plain": [
       "Autorisation active      8169\n",
       "Autorisation abrogée      314\n",
       "Autorisation archivée      75\n",
       "Autorisation retirée        6\n",
       "Name: statut admin, dtype: int64"
      ]
     },
     "execution_count": 43,
     "metadata": {},
     "output_type": "execute_result"
    }
   ],
   "source": [
    "df['statut admin'].value_counts()"
   ]
  },
  {
   "cell_type": "code",
   "execution_count": 46,
   "metadata": {
    "collapsed": false
   },
   "outputs": [
    {
     "data": {
      "text/plain": [
       "17.994299363057323"
      ]
     },
     "execution_count": 46,
     "metadata": {},
     "output_type": "execute_result"
    }
   ],
   "source": [
    "df[df['statut admin'] == \"Autorisation abrogée\"].prix.mean()"
   ]
  },
  {
   "cell_type": "code",
   "execution_count": 48,
   "metadata": {
    "collapsed": false
   },
   "outputs": [
    {
     "data": {
      "text/plain": [
       "4.568333333333333"
      ]
     },
     "execution_count": 48,
     "metadata": {},
     "output_type": "execute_result"
    }
   ],
   "source": [
    "df[df['statut admin'] == \"Autorisation retirée\"].prix.mean()"
   ]
  },
  {
   "cell_type": "code",
   "execution_count": 51,
   "metadata": {
    "collapsed": false
   },
   "outputs": [
    {
     "data": {
      "text/plain": [
       "(325,)"
      ]
     },
     "execution_count": 51,
     "metadata": {},
     "output_type": "execute_result"
    }
   ],
   "source": [
    "df.titulaires.value_counts().shape"
   ]
  },
  {
   "cell_type": "code",
   "execution_count": 54,
   "metadata": {
    "collapsed": false
   },
   "outputs": [
    {
     "data": {
      "text/plain": [
       "0                               DÉSOGESTREL\n",
       "1    MONTÉLUKAST ACIDE, MONTÉLUKAST SODIQUE\n",
       "2                 CHLORHYDRATE DE DILTIAZEM\n",
       "3     ACIDE VALPROÏQUE, VALPROATE DE SODIUM\n",
       "4                                 LÉTROZOLE\n",
       "Name: substances, dtype: object"
      ]
     },
     "execution_count": 54,
     "metadata": {},
     "output_type": "execute_result"
    }
   ],
   "source": [
    "df.substances.head()"
   ]
  },
  {
   "cell_type": "code",
   "execution_count": 69,
   "metadata": {
    "collapsed": false
   },
   "outputs": [],
   "source": [
    "del test['id']"
   ]
  },
  {
   "cell_type": "code",
   "execution_count": 71,
   "metadata": {
    "collapsed": true
   },
   "outputs": [],
   "source": [
    "test['prix'] = 0"
   ]
  },
  {
   "cell_type": "code",
   "execution_count": 93,
   "metadata": {
    "collapsed": false
   },
   "outputs": [],
   "source": [
    "df = pd.concat([train, test], ignore_index=True)\n",
    "df = df.reset_index()"
   ]
  },
  {
   "cell_type": "code",
   "execution_count": 94,
   "metadata": {
    "collapsed": false
   },
   "outputs": [
    {
     "data": {
      "text/html": [
       "<div>\n",
       "<table border=\"1\" class=\"dataframe\">\n",
       "  <thead>\n",
       "    <tr style=\"text-align: right;\">\n",
       "      <th></th>\n",
       "      <th>index</th>\n",
       "      <th>libelle</th>\n",
       "      <th>libelle_plaquette</th>\n",
       "      <th>libelle_ampoule</th>\n",
       "      <th>libelle_flacon</th>\n",
       "      <th>libelle_tube</th>\n",
       "      <th>libelle_stylo</th>\n",
       "      <th>libelle_seringue</th>\n",
       "      <th>libelle_pilulier</th>\n",
       "      <th>libelle_sachet</th>\n",
       "      <th>...</th>\n",
       "      <th>tx rembours</th>\n",
       "      <th>forme pharma</th>\n",
       "      <th>voies admin</th>\n",
       "      <th>statut admin</th>\n",
       "      <th>date declar annee</th>\n",
       "      <th>date amm annee</th>\n",
       "      <th>type proc</th>\n",
       "      <th>titulaires</th>\n",
       "      <th>substances</th>\n",
       "      <th>prix</th>\n",
       "    </tr>\n",
       "  </thead>\n",
       "  <tbody>\n",
       "    <tr>\n",
       "      <th>0</th>\n",
       "      <td>0</td>\n",
       "      <td>3 plaquette(s) thermoformée(s) PVC-Aluminium d...</td>\n",
       "      <td>1</td>\n",
       "      <td>0</td>\n",
       "      <td>0</td>\n",
       "      <td>0</td>\n",
       "      <td>0</td>\n",
       "      <td>0</td>\n",
       "      <td>0</td>\n",
       "      <td>0</td>\n",
       "      <td>...</td>\n",
       "      <td>65%</td>\n",
       "      <td>comprimé pelliculé</td>\n",
       "      <td>orale</td>\n",
       "      <td>Autorisation active</td>\n",
       "      <td>2014</td>\n",
       "      <td>2014</td>\n",
       "      <td>Procédure décentralisée</td>\n",
       "      <td>MAJORELLE LUXEMBOURG SOPARFI (LUXEMBOURG)</td>\n",
       "      <td>DÉSOGESTREL</td>\n",
       "      <td>2.83</td>\n",
       "    </tr>\n",
       "    <tr>\n",
       "      <th>1</th>\n",
       "      <td>1</td>\n",
       "      <td>plaquette(s) thermoformée(s) aluminium de 28 c...</td>\n",
       "      <td>1</td>\n",
       "      <td>0</td>\n",
       "      <td>0</td>\n",
       "      <td>0</td>\n",
       "      <td>0</td>\n",
       "      <td>0</td>\n",
       "      <td>0</td>\n",
       "      <td>0</td>\n",
       "      <td>...</td>\n",
       "      <td>65%</td>\n",
       "      <td>comprimé à croquer</td>\n",
       "      <td>orale</td>\n",
       "      <td>Autorisation active</td>\n",
       "      <td>2013</td>\n",
       "      <td>2009</td>\n",
       "      <td>Procédure de reconnaissance mutuelle</td>\n",
       "      <td>TEVA SANTE</td>\n",
       "      <td>MONTÉLUKAST ACIDE, MONTÉLUKAST SODIQUE</td>\n",
       "      <td>14.30</td>\n",
       "    </tr>\n",
       "    <tr>\n",
       "      <th>2</th>\n",
       "      <td>2</td>\n",
       "      <td>plaquette(s) thermoformée(s) PVC-aluminium de ...</td>\n",
       "      <td>1</td>\n",
       "      <td>0</td>\n",
       "      <td>0</td>\n",
       "      <td>0</td>\n",
       "      <td>0</td>\n",
       "      <td>0</td>\n",
       "      <td>0</td>\n",
       "      <td>0</td>\n",
       "      <td>...</td>\n",
       "      <td>65%</td>\n",
       "      <td>gélule à libération prolongée</td>\n",
       "      <td>orale</td>\n",
       "      <td>Autorisation active</td>\n",
       "      <td>2000</td>\n",
       "      <td>1996</td>\n",
       "      <td>Procédure nationale</td>\n",
       "      <td>MYLAN SAS</td>\n",
       "      <td>CHLORHYDRATE DE DILTIAZEM</td>\n",
       "      <td>5.66</td>\n",
       "    </tr>\n",
       "    <tr>\n",
       "      <th>3</th>\n",
       "      <td>3</td>\n",
       "      <td>30 sachet(s)-dose(s) papier aluminium complexe...</td>\n",
       "      <td>0</td>\n",
       "      <td>0</td>\n",
       "      <td>0</td>\n",
       "      <td>0</td>\n",
       "      <td>0</td>\n",
       "      <td>0</td>\n",
       "      <td>0</td>\n",
       "      <td>1</td>\n",
       "      <td>...</td>\n",
       "      <td>65%</td>\n",
       "      <td>granulés à libération prolongée</td>\n",
       "      <td>orale</td>\n",
       "      <td>Autorisation active</td>\n",
       "      <td>2005</td>\n",
       "      <td>2004</td>\n",
       "      <td>Procédure nationale</td>\n",
       "      <td>SANOFI AVENTIS FRANCE</td>\n",
       "      <td>ACIDE VALPROÏQUE, VALPROATE DE SODIUM</td>\n",
       "      <td>24.27</td>\n",
       "    </tr>\n",
       "    <tr>\n",
       "      <th>4</th>\n",
       "      <td>4</td>\n",
       "      <td>plaquette(s) thermoformée(s) PVC-Aluminium de ...</td>\n",
       "      <td>1</td>\n",
       "      <td>0</td>\n",
       "      <td>0</td>\n",
       "      <td>0</td>\n",
       "      <td>0</td>\n",
       "      <td>0</td>\n",
       "      <td>0</td>\n",
       "      <td>0</td>\n",
       "      <td>...</td>\n",
       "      <td>100%</td>\n",
       "      <td>comprimé pelliculé</td>\n",
       "      <td>orale</td>\n",
       "      <td>Autorisation active</td>\n",
       "      <td>2015</td>\n",
       "      <td>2010</td>\n",
       "      <td>Procédure nationale</td>\n",
       "      <td>TEVA SANTE</td>\n",
       "      <td>LÉTROZOLE</td>\n",
       "      <td>59.94</td>\n",
       "    </tr>\n",
       "    <tr>\n",
       "      <th>5</th>\n",
       "      <td>5</td>\n",
       "      <td>plaquette(s) thermoformée(s) PVC-aluminium de ...</td>\n",
       "      <td>1</td>\n",
       "      <td>0</td>\n",
       "      <td>0</td>\n",
       "      <td>0</td>\n",
       "      <td>0</td>\n",
       "      <td>0</td>\n",
       "      <td>0</td>\n",
       "      <td>0</td>\n",
       "      <td>...</td>\n",
       "      <td>100%</td>\n",
       "      <td>comprimé</td>\n",
       "      <td>orale</td>\n",
       "      <td>Autorisation active</td>\n",
       "      <td>2001</td>\n",
       "      <td>2000</td>\n",
       "      <td>Procédure nationale</td>\n",
       "      <td>EG LABO - LABORATOIRES EUROGENERICS</td>\n",
       "      <td>FLUTAMIDE</td>\n",
       "      <td>27.17</td>\n",
       "    </tr>\n",
       "    <tr>\n",
       "      <th>6</th>\n",
       "      <td>6</td>\n",
       "      <td>flacon(s) polyéthylène haute densité (PEHD) de...</td>\n",
       "      <td>0</td>\n",
       "      <td>0</td>\n",
       "      <td>1</td>\n",
       "      <td>0</td>\n",
       "      <td>0</td>\n",
       "      <td>0</td>\n",
       "      <td>0</td>\n",
       "      <td>0</td>\n",
       "      <td>...</td>\n",
       "      <td>100%</td>\n",
       "      <td>capsule molle</td>\n",
       "      <td>orale</td>\n",
       "      <td>Autorisation active</td>\n",
       "      <td>2015</td>\n",
       "      <td>2001</td>\n",
       "      <td>Procédure centralisée</td>\n",
       "      <td>EISAI (ROYAUME-UNI)</td>\n",
       "      <td>BEXAROTÈNE</td>\n",
       "      <td>877.83</td>\n",
       "    </tr>\n",
       "    <tr>\n",
       "      <th>7</th>\n",
       "      <td>7</td>\n",
       "      <td>plaquette(s) thermoformée(s) PVC polyéthylène ...</td>\n",
       "      <td>1</td>\n",
       "      <td>0</td>\n",
       "      <td>0</td>\n",
       "      <td>0</td>\n",
       "      <td>0</td>\n",
       "      <td>0</td>\n",
       "      <td>0</td>\n",
       "      <td>0</td>\n",
       "      <td>...</td>\n",
       "      <td>65%</td>\n",
       "      <td>comprimé</td>\n",
       "      <td>orale</td>\n",
       "      <td>Autorisation active</td>\n",
       "      <td>2006</td>\n",
       "      <td>2006</td>\n",
       "      <td>Procédure de reconnaissance mutuelle</td>\n",
       "      <td>SANDOZ</td>\n",
       "      <td>GLIMÉPIRIDE</td>\n",
       "      <td>6.58</td>\n",
       "    </tr>\n",
       "    <tr>\n",
       "      <th>8</th>\n",
       "      <td>8</td>\n",
       "      <td>plaquette(s) thermoformée(s) PVC-Aluminium de ...</td>\n",
       "      <td>1</td>\n",
       "      <td>0</td>\n",
       "      <td>0</td>\n",
       "      <td>0</td>\n",
       "      <td>0</td>\n",
       "      <td>0</td>\n",
       "      <td>0</td>\n",
       "      <td>0</td>\n",
       "      <td>...</td>\n",
       "      <td>65%</td>\n",
       "      <td>comprimé sécable</td>\n",
       "      <td>orale</td>\n",
       "      <td>Autorisation active</td>\n",
       "      <td>2013</td>\n",
       "      <td>2002</td>\n",
       "      <td>Procédure nationale</td>\n",
       "      <td>ARROW GENERIQUES</td>\n",
       "      <td>MALÉATE D'ÉNALAPRIL</td>\n",
       "      <td>18.63</td>\n",
       "    </tr>\n",
       "    <tr>\n",
       "      <th>9</th>\n",
       "      <td>9</td>\n",
       "      <td>plaquette(s) polyamide aluminium PVC de 10 com...</td>\n",
       "      <td>1</td>\n",
       "      <td>0</td>\n",
       "      <td>0</td>\n",
       "      <td>0</td>\n",
       "      <td>0</td>\n",
       "      <td>0</td>\n",
       "      <td>0</td>\n",
       "      <td>0</td>\n",
       "      <td>...</td>\n",
       "      <td>65%</td>\n",
       "      <td>comprimé pelliculé</td>\n",
       "      <td>orale</td>\n",
       "      <td>Autorisation active</td>\n",
       "      <td>2015</td>\n",
       "      <td>2012</td>\n",
       "      <td>Procédure nationale</td>\n",
       "      <td>ARROW GENERIQUES</td>\n",
       "      <td>CEFPODOXIME PROXÉTIL, CEFPODOXIME</td>\n",
       "      <td>6.13</td>\n",
       "    </tr>\n",
       "    <tr>\n",
       "      <th>10</th>\n",
       "      <td>10</td>\n",
       "      <td>4 sachet(s) papier aluminium polyéthylène de 1...</td>\n",
       "      <td>0</td>\n",
       "      <td>0</td>\n",
       "      <td>0</td>\n",
       "      <td>0</td>\n",
       "      <td>0</td>\n",
       "      <td>0</td>\n",
       "      <td>0</td>\n",
       "      <td>1</td>\n",
       "      <td>...</td>\n",
       "      <td>65%</td>\n",
       "      <td>dispositif</td>\n",
       "      <td>transdermique</td>\n",
       "      <td>Autorisation active</td>\n",
       "      <td>2003</td>\n",
       "      <td>2002</td>\n",
       "      <td>Procédure nationale</td>\n",
       "      <td>PIERRE FABRE MEDICAMENT</td>\n",
       "      <td>ESTRADIOL, ESTRADIOL HÉMIHYDRATÉ</td>\n",
       "      <td>6.25</td>\n",
       "    </tr>\n",
       "    <tr>\n",
       "      <th>11</th>\n",
       "      <td>11</td>\n",
       "      <td>1 inhalateur(s) multidose(s) avec embout(s) bu...</td>\n",
       "      <td>0</td>\n",
       "      <td>0</td>\n",
       "      <td>0</td>\n",
       "      <td>0</td>\n",
       "      <td>0</td>\n",
       "      <td>0</td>\n",
       "      <td>0</td>\n",
       "      <td>0</td>\n",
       "      <td>...</td>\n",
       "      <td>65%</td>\n",
       "      <td>poudre pour inhalation</td>\n",
       "      <td>inhalée</td>\n",
       "      <td>Autorisation active</td>\n",
       "      <td>2012</td>\n",
       "      <td>2011</td>\n",
       "      <td>Autorisation d'importation parallèle</td>\n",
       "      <td>MEDIWIN</td>\n",
       "      <td>FUMARATE DE FORMOTÉROL DIHYDRATÉ, BUDÉSONIDE</td>\n",
       "      <td>39.66</td>\n",
       "    </tr>\n",
       "    <tr>\n",
       "      <th>12</th>\n",
       "      <td>12</td>\n",
       "      <td>plaquette(s) thermoformée(s) polyamide alumini...</td>\n",
       "      <td>1</td>\n",
       "      <td>0</td>\n",
       "      <td>0</td>\n",
       "      <td>0</td>\n",
       "      <td>0</td>\n",
       "      <td>0</td>\n",
       "      <td>0</td>\n",
       "      <td>0</td>\n",
       "      <td>...</td>\n",
       "      <td>65%</td>\n",
       "      <td>comprimé</td>\n",
       "      <td>orale</td>\n",
       "      <td>Autorisation active</td>\n",
       "      <td>2015</td>\n",
       "      <td>2005</td>\n",
       "      <td>Procédure nationale</td>\n",
       "      <td>ARROW GENERIQUES</td>\n",
       "      <td>PRAVASTATINE SODIQUE</td>\n",
       "      <td>22.04</td>\n",
       "    </tr>\n",
       "    <tr>\n",
       "      <th>13</th>\n",
       "      <td>13</td>\n",
       "      <td>plaquette(s) thermoformée(s) polyamide alumini...</td>\n",
       "      <td>1</td>\n",
       "      <td>0</td>\n",
       "      <td>0</td>\n",
       "      <td>0</td>\n",
       "      <td>0</td>\n",
       "      <td>0</td>\n",
       "      <td>0</td>\n",
       "      <td>0</td>\n",
       "      <td>...</td>\n",
       "      <td>65%</td>\n",
       "      <td>comprimé sécable</td>\n",
       "      <td>orale</td>\n",
       "      <td>Autorisation active</td>\n",
       "      <td>2013</td>\n",
       "      <td>2008</td>\n",
       "      <td>Procédure de reconnaissance mutuelle</td>\n",
       "      <td>RATIOPHARM (ALLEMAGNE)</td>\n",
       "      <td>PÉRINDOPRIL TERT-BUTYLAMINE, PÉRINDOPRIL, INDA...</td>\n",
       "      <td>6.36</td>\n",
       "    </tr>\n",
       "    <tr>\n",
       "      <th>14</th>\n",
       "      <td>14</td>\n",
       "      <td>3 plaquette(s) thermoformée(s) polyamide PVC-A...</td>\n",
       "      <td>1</td>\n",
       "      <td>0</td>\n",
       "      <td>0</td>\n",
       "      <td>0</td>\n",
       "      <td>0</td>\n",
       "      <td>0</td>\n",
       "      <td>0</td>\n",
       "      <td>0</td>\n",
       "      <td>...</td>\n",
       "      <td>65%</td>\n",
       "      <td>comprimé</td>\n",
       "      <td>orale</td>\n",
       "      <td>Autorisation active</td>\n",
       "      <td>2008</td>\n",
       "      <td>1998</td>\n",
       "      <td>Procédure centralisée</td>\n",
       "      <td>BAYER PHARMA (ALLEMAGNE)</td>\n",
       "      <td>TELMISARTAN</td>\n",
       "      <td>9.62</td>\n",
       "    </tr>\n",
       "    <tr>\n",
       "      <th>15</th>\n",
       "      <td>15</td>\n",
       "      <td>1 flacon(s) en verre brun de 30 ml avec mesure...</td>\n",
       "      <td>0</td>\n",
       "      <td>0</td>\n",
       "      <td>1</td>\n",
       "      <td>0</td>\n",
       "      <td>0</td>\n",
       "      <td>0</td>\n",
       "      <td>0</td>\n",
       "      <td>0</td>\n",
       "      <td>...</td>\n",
       "      <td>65%</td>\n",
       "      <td>solution buvable gouttes</td>\n",
       "      <td>orale</td>\n",
       "      <td>Autorisation active</td>\n",
       "      <td>1981</td>\n",
       "      <td>1989</td>\n",
       "      <td>Procédure nationale</td>\n",
       "      <td>SANOFI AVENTIS FRANCE</td>\n",
       "      <td>TRIHEXYPHÉNIDYLE (CHLORHYDRATE DE)</td>\n",
       "      <td>2.79</td>\n",
       "    </tr>\n",
       "    <tr>\n",
       "      <th>16</th>\n",
       "      <td>16</td>\n",
       "      <td>plaquette(s) thermoformée(s) PVC PVDC aluminiu...</td>\n",
       "      <td>1</td>\n",
       "      <td>0</td>\n",
       "      <td>0</td>\n",
       "      <td>0</td>\n",
       "      <td>0</td>\n",
       "      <td>0</td>\n",
       "      <td>0</td>\n",
       "      <td>0</td>\n",
       "      <td>...</td>\n",
       "      <td>15%</td>\n",
       "      <td>comprimé dispersible orodispersible</td>\n",
       "      <td>orale</td>\n",
       "      <td>Autorisation abrogée</td>\n",
       "      <td>2014</td>\n",
       "      <td>2005</td>\n",
       "      <td>Procédure nationale</td>\n",
       "      <td>RANBAXY PHARMACIE GENERIQUES</td>\n",
       "      <td>PHLOROGLUCINOL HYDRATÉ</td>\n",
       "      <td>1.33</td>\n",
       "    </tr>\n",
       "    <tr>\n",
       "      <th>17</th>\n",
       "      <td>17</td>\n",
       "      <td>plaquette(s) thermoformée(s) PVC-aluminium de ...</td>\n",
       "      <td>1</td>\n",
       "      <td>0</td>\n",
       "      <td>0</td>\n",
       "      <td>0</td>\n",
       "      <td>0</td>\n",
       "      <td>0</td>\n",
       "      <td>0</td>\n",
       "      <td>0</td>\n",
       "      <td>...</td>\n",
       "      <td>65%</td>\n",
       "      <td>comprimé</td>\n",
       "      <td>orale</td>\n",
       "      <td>Autorisation active</td>\n",
       "      <td>2002</td>\n",
       "      <td>2002</td>\n",
       "      <td>Procédure nationale</td>\n",
       "      <td>ARROW GENERIQUES</td>\n",
       "      <td>ACICLOVIR</td>\n",
       "      <td>9.46</td>\n",
       "    </tr>\n",
       "    <tr>\n",
       "      <th>18</th>\n",
       "      <td>18</td>\n",
       "      <td>plaquette(s) thermoformée(s) PVC polyéthylène ...</td>\n",
       "      <td>1</td>\n",
       "      <td>0</td>\n",
       "      <td>0</td>\n",
       "      <td>0</td>\n",
       "      <td>0</td>\n",
       "      <td>0</td>\n",
       "      <td>0</td>\n",
       "      <td>0</td>\n",
       "      <td>...</td>\n",
       "      <td>65%</td>\n",
       "      <td>comprimé pelliculé</td>\n",
       "      <td>orale</td>\n",
       "      <td>Autorisation active</td>\n",
       "      <td>2006</td>\n",
       "      <td>1987</td>\n",
       "      <td>Procédure nationale</td>\n",
       "      <td>LUNDBECK SAS</td>\n",
       "      <td>ZUCLOPENTHIXOL (DICHLORHYDRATE DE), ZUCLOPENTH...</td>\n",
       "      <td>10.02</td>\n",
       "    </tr>\n",
       "    <tr>\n",
       "      <th>19</th>\n",
       "      <td>19</td>\n",
       "      <td>plaquette(s) thermoformée(s) PVC-Aluminium de ...</td>\n",
       "      <td>1</td>\n",
       "      <td>0</td>\n",
       "      <td>0</td>\n",
       "      <td>0</td>\n",
       "      <td>0</td>\n",
       "      <td>0</td>\n",
       "      <td>0</td>\n",
       "      <td>0</td>\n",
       "      <td>...</td>\n",
       "      <td>65%</td>\n",
       "      <td>gélule à libération prolongée</td>\n",
       "      <td>orale</td>\n",
       "      <td>Autorisation active</td>\n",
       "      <td>2004</td>\n",
       "      <td>2003</td>\n",
       "      <td>Procédure de reconnaissance mutuelle</td>\n",
       "      <td>THERABEL LUCIEN PHARMA</td>\n",
       "      <td>CHLORHYDRATE DE TRAMADOL</td>\n",
       "      <td>9.79</td>\n",
       "    </tr>\n",
       "    <tr>\n",
       "      <th>20</th>\n",
       "      <td>20</td>\n",
       "      <td>plaquette(s) thermoformée(s) PVC PVDC aluminiu...</td>\n",
       "      <td>1</td>\n",
       "      <td>0</td>\n",
       "      <td>0</td>\n",
       "      <td>0</td>\n",
       "      <td>0</td>\n",
       "      <td>0</td>\n",
       "      <td>0</td>\n",
       "      <td>0</td>\n",
       "      <td>...</td>\n",
       "      <td>65%</td>\n",
       "      <td>comprimé</td>\n",
       "      <td>orale</td>\n",
       "      <td>Autorisation active</td>\n",
       "      <td>2012</td>\n",
       "      <td>2011</td>\n",
       "      <td>Procédure décentralisée</td>\n",
       "      <td>KRKA (SLOVENIE)</td>\n",
       "      <td>HYDROCHLOROTHIAZIDE, CANDÉSARTAN CILEXÉTIL</td>\n",
       "      <td>6.36</td>\n",
       "    </tr>\n",
       "    <tr>\n",
       "      <th>21</th>\n",
       "      <td>21</td>\n",
       "      <td>plaquette(s) thermoformée(s) PVC PVDC aluminiu...</td>\n",
       "      <td>1</td>\n",
       "      <td>0</td>\n",
       "      <td>0</td>\n",
       "      <td>0</td>\n",
       "      <td>0</td>\n",
       "      <td>0</td>\n",
       "      <td>0</td>\n",
       "      <td>0</td>\n",
       "      <td>...</td>\n",
       "      <td>65%</td>\n",
       "      <td>comprimé pelliculé sécable</td>\n",
       "      <td>orale</td>\n",
       "      <td>Autorisation active</td>\n",
       "      <td>2014</td>\n",
       "      <td>2010</td>\n",
       "      <td>Procédure nationale</td>\n",
       "      <td>TEVA SANTE</td>\n",
       "      <td>LÉVOFLOXACINE HÉMIHYDRATÉE, LÉVOFLOXACINE</td>\n",
       "      <td>10.99</td>\n",
       "    </tr>\n",
       "    <tr>\n",
       "      <th>22</th>\n",
       "      <td>22</td>\n",
       "      <td>plaquette(s) thermoformée(s) PVC-Aluminium de ...</td>\n",
       "      <td>1</td>\n",
       "      <td>0</td>\n",
       "      <td>0</td>\n",
       "      <td>0</td>\n",
       "      <td>0</td>\n",
       "      <td>0</td>\n",
       "      <td>0</td>\n",
       "      <td>0</td>\n",
       "      <td>...</td>\n",
       "      <td>65%</td>\n",
       "      <td>gélule à libération prolongée</td>\n",
       "      <td>orale</td>\n",
       "      <td>Autorisation active</td>\n",
       "      <td>2012</td>\n",
       "      <td>2009</td>\n",
       "      <td>Procédure nationale</td>\n",
       "      <td>ARROW GENERIQUES</td>\n",
       "      <td>CHLORHYDRATE DE TRAMADOL</td>\n",
       "      <td>10.32</td>\n",
       "    </tr>\n",
       "    <tr>\n",
       "      <th>23</th>\n",
       "      <td>23</td>\n",
       "      <td>tube(s) polypropylène de 30  comprimé(s)</td>\n",
       "      <td>0</td>\n",
       "      <td>0</td>\n",
       "      <td>0</td>\n",
       "      <td>1</td>\n",
       "      <td>0</td>\n",
       "      <td>0</td>\n",
       "      <td>0</td>\n",
       "      <td>0</td>\n",
       "      <td>...</td>\n",
       "      <td>65%</td>\n",
       "      <td>comprimé quadrisécable</td>\n",
       "      <td>orale</td>\n",
       "      <td>Autorisation active</td>\n",
       "      <td>1981</td>\n",
       "      <td>1988</td>\n",
       "      <td>Procédure nationale</td>\n",
       "      <td>ROCHE</td>\n",
       "      <td>BROMAZÉPAM</td>\n",
       "      <td>1.71</td>\n",
       "    </tr>\n",
       "    <tr>\n",
       "      <th>24</th>\n",
       "      <td>24</td>\n",
       "      <td>plaquette(s) polyamide aluminium PVC-Aluminium...</td>\n",
       "      <td>1</td>\n",
       "      <td>0</td>\n",
       "      <td>0</td>\n",
       "      <td>0</td>\n",
       "      <td>0</td>\n",
       "      <td>0</td>\n",
       "      <td>0</td>\n",
       "      <td>0</td>\n",
       "      <td>...</td>\n",
       "      <td>65%</td>\n",
       "      <td>comprimé pelliculé sécable</td>\n",
       "      <td>orale</td>\n",
       "      <td>Autorisation active</td>\n",
       "      <td>2014</td>\n",
       "      <td>2014</td>\n",
       "      <td>Procédure décentralisée</td>\n",
       "      <td>KRKA (SLOVENIE)</td>\n",
       "      <td>OXALATE D'ESCITALOPRAM, ESCITALOPRAM</td>\n",
       "      <td>13.03</td>\n",
       "    </tr>\n",
       "    <tr>\n",
       "      <th>25</th>\n",
       "      <td>25</td>\n",
       "      <td>plaquette(s) thermoformée(s) PVC PVDC aluminiu...</td>\n",
       "      <td>1</td>\n",
       "      <td>0</td>\n",
       "      <td>0</td>\n",
       "      <td>0</td>\n",
       "      <td>0</td>\n",
       "      <td>0</td>\n",
       "      <td>0</td>\n",
       "      <td>0</td>\n",
       "      <td>...</td>\n",
       "      <td>65%</td>\n",
       "      <td>comprimé</td>\n",
       "      <td>orale</td>\n",
       "      <td>Autorisation active</td>\n",
       "      <td>2013</td>\n",
       "      <td>2006</td>\n",
       "      <td>Procédure de reconnaissance mutuelle</td>\n",
       "      <td>RATIOPHARM (ALLEMAGNE)</td>\n",
       "      <td>GLIMÉPIRIDE</td>\n",
       "      <td>2.53</td>\n",
       "    </tr>\n",
       "    <tr>\n",
       "      <th>26</th>\n",
       "      <td>26</td>\n",
       "      <td>5 sachet(s) polyester aluminium P-A-M-éthylène...</td>\n",
       "      <td>0</td>\n",
       "      <td>0</td>\n",
       "      <td>0</td>\n",
       "      <td>0</td>\n",
       "      <td>0</td>\n",
       "      <td>0</td>\n",
       "      <td>0</td>\n",
       "      <td>1</td>\n",
       "      <td>...</td>\n",
       "      <td>65%</td>\n",
       "      <td>dispositif</td>\n",
       "      <td>transdermique</td>\n",
       "      <td>Autorisation active</td>\n",
       "      <td>2014</td>\n",
       "      <td>2010</td>\n",
       "      <td>Procédure décentralisée</td>\n",
       "      <td>RANBAXY PHARMACIE GENERIQUES</td>\n",
       "      <td>FENTANYL</td>\n",
       "      <td>12.86</td>\n",
       "    </tr>\n",
       "    <tr>\n",
       "      <th>27</th>\n",
       "      <td>27</td>\n",
       "      <td>plaquette(s) thermoformée(s) PVC-Aluminium de ...</td>\n",
       "      <td>1</td>\n",
       "      <td>0</td>\n",
       "      <td>0</td>\n",
       "      <td>0</td>\n",
       "      <td>0</td>\n",
       "      <td>0</td>\n",
       "      <td>0</td>\n",
       "      <td>0</td>\n",
       "      <td>...</td>\n",
       "      <td>65%</td>\n",
       "      <td>comprimé pelliculé à libération prolongée</td>\n",
       "      <td>orale</td>\n",
       "      <td>Autorisation active</td>\n",
       "      <td>1996</td>\n",
       "      <td>1994</td>\n",
       "      <td>Procédure de reconnaissance mutuelle</td>\n",
       "      <td>LES LABORATOIRES SERVIER</td>\n",
       "      <td>INDAPAMIDE HÉMIHYDRATÉ</td>\n",
       "      <td>5.02</td>\n",
       "    </tr>\n",
       "    <tr>\n",
       "      <th>28</th>\n",
       "      <td>28</td>\n",
       "      <td>flacon(s) polyéthylène haute densité (PEHD) de...</td>\n",
       "      <td>0</td>\n",
       "      <td>0</td>\n",
       "      <td>1</td>\n",
       "      <td>0</td>\n",
       "      <td>0</td>\n",
       "      <td>0</td>\n",
       "      <td>0</td>\n",
       "      <td>0</td>\n",
       "      <td>...</td>\n",
       "      <td>65%</td>\n",
       "      <td>gélule gastro-résistant(e)</td>\n",
       "      <td>orale</td>\n",
       "      <td>Autorisation active</td>\n",
       "      <td>2012</td>\n",
       "      <td>2010</td>\n",
       "      <td>Procédure nationale</td>\n",
       "      <td>KRKA (SLOVENIE)</td>\n",
       "      <td>OMÉPRAZOLE</td>\n",
       "      <td>8.14</td>\n",
       "    </tr>\n",
       "    <tr>\n",
       "      <th>29</th>\n",
       "      <td>29</td>\n",
       "      <td>plaquette(s) thermoformée(s) PVC-Aluminium de ...</td>\n",
       "      <td>1</td>\n",
       "      <td>0</td>\n",
       "      <td>0</td>\n",
       "      <td>0</td>\n",
       "      <td>0</td>\n",
       "      <td>0</td>\n",
       "      <td>0</td>\n",
       "      <td>0</td>\n",
       "      <td>...</td>\n",
       "      <td>65%</td>\n",
       "      <td>capsule molle</td>\n",
       "      <td>orale,vaginale</td>\n",
       "      <td>Autorisation active</td>\n",
       "      <td>2011</td>\n",
       "      <td>2003</td>\n",
       "      <td>Procédure nationale</td>\n",
       "      <td>BESINS INTERNATIONAL (FRANCE)</td>\n",
       "      <td>PROGESTÉRONE</td>\n",
       "      <td>13.39</td>\n",
       "    </tr>\n",
       "    <tr>\n",
       "      <th>...</th>\n",
       "      <td>...</td>\n",
       "      <td>...</td>\n",
       "      <td>...</td>\n",
       "      <td>...</td>\n",
       "      <td>...</td>\n",
       "      <td>...</td>\n",
       "      <td>...</td>\n",
       "      <td>...</td>\n",
       "      <td>...</td>\n",
       "      <td>...</td>\n",
       "      <td>...</td>\n",
       "      <td>...</td>\n",
       "      <td>...</td>\n",
       "      <td>...</td>\n",
       "      <td>...</td>\n",
       "      <td>...</td>\n",
       "      <td>...</td>\n",
       "      <td>...</td>\n",
       "      <td>...</td>\n",
       "      <td>...</td>\n",
       "      <td>...</td>\n",
       "    </tr>\n",
       "    <tr>\n",
       "      <th>8534</th>\n",
       "      <td>8534</td>\n",
       "      <td>1 tube(s) aluminium verni de 30 g</td>\n",
       "      <td>0</td>\n",
       "      <td>0</td>\n",
       "      <td>0</td>\n",
       "      <td>1</td>\n",
       "      <td>0</td>\n",
       "      <td>0</td>\n",
       "      <td>0</td>\n",
       "      <td>0</td>\n",
       "      <td>...</td>\n",
       "      <td>30%</td>\n",
       "      <td>crème</td>\n",
       "      <td>cutanée</td>\n",
       "      <td>Autorisation active</td>\n",
       "      <td>1998</td>\n",
       "      <td>1997</td>\n",
       "      <td>Procédure nationale</td>\n",
       "      <td>GALDERMA INTERNATIONAL</td>\n",
       "      <td>ADAPALÈNE</td>\n",
       "      <td>4.31</td>\n",
       "    </tr>\n",
       "    <tr>\n",
       "      <th>8535</th>\n",
       "      <td>8535</td>\n",
       "      <td>tube(s) polypropylène de 8 comprimé(s)</td>\n",
       "      <td>0</td>\n",
       "      <td>0</td>\n",
       "      <td>0</td>\n",
       "      <td>1</td>\n",
       "      <td>0</td>\n",
       "      <td>0</td>\n",
       "      <td>0</td>\n",
       "      <td>0</td>\n",
       "      <td>...</td>\n",
       "      <td>65%</td>\n",
       "      <td>comprimé effervescent(e) sécable</td>\n",
       "      <td>orale</td>\n",
       "      <td>Autorisation active</td>\n",
       "      <td>2015</td>\n",
       "      <td>2005</td>\n",
       "      <td>Procédure nationale</td>\n",
       "      <td>TEVA SANTE</td>\n",
       "      <td>PARACÉTAMOL</td>\n",
       "      <td>1.08</td>\n",
       "    </tr>\n",
       "    <tr>\n",
       "      <th>8536</th>\n",
       "      <td>8536</td>\n",
       "      <td>plaquette(s) thermoformée(s) PVC PVDC aluminiu...</td>\n",
       "      <td>1</td>\n",
       "      <td>0</td>\n",
       "      <td>0</td>\n",
       "      <td>0</td>\n",
       "      <td>0</td>\n",
       "      <td>0</td>\n",
       "      <td>0</td>\n",
       "      <td>0</td>\n",
       "      <td>...</td>\n",
       "      <td>65%</td>\n",
       "      <td>comprimé pelliculé sécable</td>\n",
       "      <td>orale</td>\n",
       "      <td>Autorisation active</td>\n",
       "      <td>2010</td>\n",
       "      <td>2007</td>\n",
       "      <td>Procédure décentralisée</td>\n",
       "      <td>TEVA SANTE</td>\n",
       "      <td>LOSARTAN POTASSIQUE</td>\n",
       "      <td>18.14</td>\n",
       "    </tr>\n",
       "    <tr>\n",
       "      <th>8537</th>\n",
       "      <td>8537</td>\n",
       "      <td>1 plaquette(s) thermoformée(s) PVC-Aluminium d...</td>\n",
       "      <td>1</td>\n",
       "      <td>0</td>\n",
       "      <td>0</td>\n",
       "      <td>0</td>\n",
       "      <td>0</td>\n",
       "      <td>0</td>\n",
       "      <td>0</td>\n",
       "      <td>0</td>\n",
       "      <td>...</td>\n",
       "      <td>65%</td>\n",
       "      <td>comprimé à libération modifiée</td>\n",
       "      <td>orale</td>\n",
       "      <td>Autorisation active</td>\n",
       "      <td>2011</td>\n",
       "      <td>2011</td>\n",
       "      <td>Autorisation d'importation parallèle</td>\n",
       "      <td>BB FARMA (ITALIE)</td>\n",
       "      <td>GLICLAZIDE</td>\n",
       "      <td>11.43</td>\n",
       "    </tr>\n",
       "    <tr>\n",
       "      <th>8538</th>\n",
       "      <td>8538</td>\n",
       "      <td>plaquette(s) thermoformée(s) PVC de 10  suppos...</td>\n",
       "      <td>1</td>\n",
       "      <td>0</td>\n",
       "      <td>0</td>\n",
       "      <td>0</td>\n",
       "      <td>0</td>\n",
       "      <td>0</td>\n",
       "      <td>0</td>\n",
       "      <td>0</td>\n",
       "      <td>...</td>\n",
       "      <td>15%</td>\n",
       "      <td>suppositoire</td>\n",
       "      <td>rectale</td>\n",
       "      <td>Autorisation active</td>\n",
       "      <td>1965</td>\n",
       "      <td>1993</td>\n",
       "      <td>Procédure nationale</td>\n",
       "      <td>TEVA SANTE</td>\n",
       "      <td>PHLOROGLUCINOL HYDRATÉ, PHLOROGLUCINOL ANHYDRE...</td>\n",
       "      <td>2.01</td>\n",
       "    </tr>\n",
       "    <tr>\n",
       "      <th>8539</th>\n",
       "      <td>8539</td>\n",
       "      <td>5 cartouche(s) en verre de 3 ml</td>\n",
       "      <td>0</td>\n",
       "      <td>0</td>\n",
       "      <td>0</td>\n",
       "      <td>0</td>\n",
       "      <td>0</td>\n",
       "      <td>0</td>\n",
       "      <td>0</td>\n",
       "      <td>0</td>\n",
       "      <td>...</td>\n",
       "      <td>65%</td>\n",
       "      <td>suspension injectable</td>\n",
       "      <td>intramusculaire,sous-cutanée</td>\n",
       "      <td>Autorisation active</td>\n",
       "      <td>1999</td>\n",
       "      <td>1996</td>\n",
       "      <td>Procédure de reconnaissance mutuelle</td>\n",
       "      <td>LILLY FRANCE</td>\n",
       "      <td>INSULINE HUMAINE RECOMBINANTE ISOPHANE</td>\n",
       "      <td>32.67</td>\n",
       "    </tr>\n",
       "    <tr>\n",
       "      <th>8540</th>\n",
       "      <td>8540</td>\n",
       "      <td>1 tube(s) polyéthylène de 250 g</td>\n",
       "      <td>0</td>\n",
       "      <td>0</td>\n",
       "      <td>0</td>\n",
       "      <td>1</td>\n",
       "      <td>0</td>\n",
       "      <td>0</td>\n",
       "      <td>0</td>\n",
       "      <td>0</td>\n",
       "      <td>...</td>\n",
       "      <td>15%</td>\n",
       "      <td>crème</td>\n",
       "      <td>cutanée</td>\n",
       "      <td>Autorisation active</td>\n",
       "      <td>1999</td>\n",
       "      <td>1991</td>\n",
       "      <td>Procédure nationale</td>\n",
       "      <td>PIERRE FABRE MEDICAMENT</td>\n",
       "      <td>VASELINE, PARAFFINE LIQUIDE, GLYCÉROL</td>\n",
       "      <td>3.15</td>\n",
       "    </tr>\n",
       "    <tr>\n",
       "      <th>8541</th>\n",
       "      <td>8541</td>\n",
       "      <td>plaquette(s) thermoformée(s) PVC polyéthylène ...</td>\n",
       "      <td>1</td>\n",
       "      <td>0</td>\n",
       "      <td>0</td>\n",
       "      <td>0</td>\n",
       "      <td>0</td>\n",
       "      <td>0</td>\n",
       "      <td>0</td>\n",
       "      <td>0</td>\n",
       "      <td>...</td>\n",
       "      <td>65%</td>\n",
       "      <td>suppositoire</td>\n",
       "      <td>rectale</td>\n",
       "      <td>Autorisation active</td>\n",
       "      <td>1995</td>\n",
       "      <td>1984</td>\n",
       "      <td>Procédure nationale</td>\n",
       "      <td>UPSA</td>\n",
       "      <td>PARACÉTAMOL</td>\n",
       "      <td>1.20</td>\n",
       "    </tr>\n",
       "    <tr>\n",
       "      <th>8542</th>\n",
       "      <td>8542</td>\n",
       "      <td>plaquette(s) thermoformée(s) polyamide PVC-alu...</td>\n",
       "      <td>1</td>\n",
       "      <td>0</td>\n",
       "      <td>0</td>\n",
       "      <td>0</td>\n",
       "      <td>0</td>\n",
       "      <td>0</td>\n",
       "      <td>0</td>\n",
       "      <td>0</td>\n",
       "      <td>...</td>\n",
       "      <td>65%</td>\n",
       "      <td>comprimé pelliculé</td>\n",
       "      <td>orale</td>\n",
       "      <td>Autorisation active</td>\n",
       "      <td>1998</td>\n",
       "      <td>1998</td>\n",
       "      <td>Procédure de reconnaissance mutuelle</td>\n",
       "      <td>MSD FRANCE</td>\n",
       "      <td>MONTÉLUKAST SODIQUE, MONTÉLUKAST ACIDE</td>\n",
       "      <td>23.31</td>\n",
       "    </tr>\n",
       "    <tr>\n",
       "      <th>8543</th>\n",
       "      <td>8543</td>\n",
       "      <td>plaquette(s) thermoformée(s) PVC PVDC aluminiu...</td>\n",
       "      <td>1</td>\n",
       "      <td>0</td>\n",
       "      <td>0</td>\n",
       "      <td>0</td>\n",
       "      <td>0</td>\n",
       "      <td>0</td>\n",
       "      <td>0</td>\n",
       "      <td>0</td>\n",
       "      <td>...</td>\n",
       "      <td>65%</td>\n",
       "      <td>comprimé pelliculé</td>\n",
       "      <td>orale</td>\n",
       "      <td>Autorisation active</td>\n",
       "      <td>2015</td>\n",
       "      <td>2012</td>\n",
       "      <td>Procédure décentralisée</td>\n",
       "      <td>TEVA SANTE</td>\n",
       "      <td>ACIDE RISÉDRONIQUE, RISÉDRONATE MONOSODIQUE AN...</td>\n",
       "      <td>16.46</td>\n",
       "    </tr>\n",
       "    <tr>\n",
       "      <th>8544</th>\n",
       "      <td>8544</td>\n",
       "      <td>plaquette(s) thermoformée(s) PVC PVDC aluminiu...</td>\n",
       "      <td>1</td>\n",
       "      <td>0</td>\n",
       "      <td>0</td>\n",
       "      <td>0</td>\n",
       "      <td>0</td>\n",
       "      <td>0</td>\n",
       "      <td>0</td>\n",
       "      <td>0</td>\n",
       "      <td>...</td>\n",
       "      <td>65%</td>\n",
       "      <td>comprimé pelliculé</td>\n",
       "      <td>orale</td>\n",
       "      <td>Autorisation active</td>\n",
       "      <td>2010</td>\n",
       "      <td>2009</td>\n",
       "      <td>Procédure de reconnaissance mutuelle</td>\n",
       "      <td>SANDOZ</td>\n",
       "      <td>CHLORHYDRATE DE METFORMINE, METFORMINE</td>\n",
       "      <td>4.71</td>\n",
       "    </tr>\n",
       "    <tr>\n",
       "      <th>8545</th>\n",
       "      <td>8545</td>\n",
       "      <td>2 stylo prérempli en verre de 0,3 ml avec aigu...</td>\n",
       "      <td>0</td>\n",
       "      <td>0</td>\n",
       "      <td>0</td>\n",
       "      <td>0</td>\n",
       "      <td>1</td>\n",
       "      <td>0</td>\n",
       "      <td>0</td>\n",
       "      <td>0</td>\n",
       "      <td>...</td>\n",
       "      <td>65%</td>\n",
       "      <td>solution injectable</td>\n",
       "      <td>intramusculaire</td>\n",
       "      <td>Autorisation active</td>\n",
       "      <td>2014</td>\n",
       "      <td>2013</td>\n",
       "      <td>Procédure décentralisée</td>\n",
       "      <td>MEDA PHARMA (FRANCE)</td>\n",
       "      <td>ADRÉNALINE</td>\n",
       "      <td>74.04</td>\n",
       "    </tr>\n",
       "    <tr>\n",
       "      <th>8546</th>\n",
       "      <td>8546</td>\n",
       "      <td>1 flacon(s) en verre jaune(brun) de 10  ml ave...</td>\n",
       "      <td>0</td>\n",
       "      <td>0</td>\n",
       "      <td>1</td>\n",
       "      <td>0</td>\n",
       "      <td>0</td>\n",
       "      <td>0</td>\n",
       "      <td>0</td>\n",
       "      <td>0</td>\n",
       "      <td>...</td>\n",
       "      <td>65%</td>\n",
       "      <td>collyre en solution</td>\n",
       "      <td>ophtalmique</td>\n",
       "      <td>Autorisation active</td>\n",
       "      <td>1968</td>\n",
       "      <td>1997</td>\n",
       "      <td>Procédure nationale</td>\n",
       "      <td>THEA</td>\n",
       "      <td>RIFAMYCINE SODIQUE</td>\n",
       "      <td>2.23</td>\n",
       "    </tr>\n",
       "    <tr>\n",
       "      <th>8547</th>\n",
       "      <td>8547</td>\n",
       "      <td>2 plaquette(s) thermoformée(s) PVC PVDC alumin...</td>\n",
       "      <td>1</td>\n",
       "      <td>0</td>\n",
       "      <td>0</td>\n",
       "      <td>0</td>\n",
       "      <td>0</td>\n",
       "      <td>0</td>\n",
       "      <td>0</td>\n",
       "      <td>0</td>\n",
       "      <td>...</td>\n",
       "      <td>65%</td>\n",
       "      <td>comprimé pelliculé</td>\n",
       "      <td>orale</td>\n",
       "      <td>Autorisation active</td>\n",
       "      <td>2012</td>\n",
       "      <td>2007</td>\n",
       "      <td>Procédure centralisée</td>\n",
       "      <td>SANOFI-AVENTIS GROUPE</td>\n",
       "      <td>IRBÉSARTAN</td>\n",
       "      <td>5.71</td>\n",
       "    </tr>\n",
       "    <tr>\n",
       "      <th>8548</th>\n",
       "      <td>8548</td>\n",
       "      <td>plaquette(s) thermoformée(s) aluminium PVC de ...</td>\n",
       "      <td>1</td>\n",
       "      <td>0</td>\n",
       "      <td>0</td>\n",
       "      <td>0</td>\n",
       "      <td>0</td>\n",
       "      <td>0</td>\n",
       "      <td>0</td>\n",
       "      <td>0</td>\n",
       "      <td>...</td>\n",
       "      <td>65%</td>\n",
       "      <td>gélule</td>\n",
       "      <td>orale</td>\n",
       "      <td>Autorisation active</td>\n",
       "      <td>2005</td>\n",
       "      <td>2005</td>\n",
       "      <td>Procédure nationale</td>\n",
       "      <td>MYLAN SAS</td>\n",
       "      <td>CHLORHYDRATE DE SERTRALINE, SERTRALINE BASE</td>\n",
       "      <td>7.72</td>\n",
       "    </tr>\n",
       "    <tr>\n",
       "      <th>8549</th>\n",
       "      <td>8549</td>\n",
       "      <td>plaquette(s) thermoformée(s) PVC PVDC aluminiu...</td>\n",
       "      <td>1</td>\n",
       "      <td>0</td>\n",
       "      <td>0</td>\n",
       "      <td>0</td>\n",
       "      <td>0</td>\n",
       "      <td>0</td>\n",
       "      <td>0</td>\n",
       "      <td>0</td>\n",
       "      <td>...</td>\n",
       "      <td>65%</td>\n",
       "      <td>comprimé pelliculé sécable</td>\n",
       "      <td>orale</td>\n",
       "      <td>Autorisation active</td>\n",
       "      <td>2011</td>\n",
       "      <td>2011</td>\n",
       "      <td>Procédure nationale</td>\n",
       "      <td>EG LABO - LABORATOIRES EUROGENERICS</td>\n",
       "      <td>NAPROXÈNE SODIQUE</td>\n",
       "      <td>1.97</td>\n",
       "    </tr>\n",
       "    <tr>\n",
       "      <th>8550</th>\n",
       "      <td>8550</td>\n",
       "      <td>30 sachet(s) papier aluminium polyéthylène de ...</td>\n",
       "      <td>0</td>\n",
       "      <td>0</td>\n",
       "      <td>0</td>\n",
       "      <td>0</td>\n",
       "      <td>0</td>\n",
       "      <td>0</td>\n",
       "      <td>0</td>\n",
       "      <td>1</td>\n",
       "      <td>...</td>\n",
       "      <td>65%</td>\n",
       "      <td>poudre pour solution buvable</td>\n",
       "      <td>orale</td>\n",
       "      <td>Autorisation active</td>\n",
       "      <td>2001</td>\n",
       "      <td>1988</td>\n",
       "      <td>Procédure nationale</td>\n",
       "      <td>SANDOZ</td>\n",
       "      <td>CALCIUM ÉLÉMENT, CALCIUM (CARBONATE DE), CALCI...</td>\n",
       "      <td>2.85</td>\n",
       "    </tr>\n",
       "    <tr>\n",
       "      <th>8551</th>\n",
       "      <td>8551</td>\n",
       "      <td>flacon(s) polyéthylène haute densité (PEHD) de...</td>\n",
       "      <td>0</td>\n",
       "      <td>0</td>\n",
       "      <td>1</td>\n",
       "      <td>0</td>\n",
       "      <td>0</td>\n",
       "      <td>0</td>\n",
       "      <td>0</td>\n",
       "      <td>0</td>\n",
       "      <td>...</td>\n",
       "      <td>65%</td>\n",
       "      <td>comprimé pelliculé</td>\n",
       "      <td>orale</td>\n",
       "      <td>Autorisation active</td>\n",
       "      <td>2015</td>\n",
       "      <td>2015</td>\n",
       "      <td>Procédure décentralisée</td>\n",
       "      <td>MYLAN SAS</td>\n",
       "      <td>CARBONATE DE SÉVÉLAMER</td>\n",
       "      <td>83.03</td>\n",
       "    </tr>\n",
       "    <tr>\n",
       "      <th>8552</th>\n",
       "      <td>8552</td>\n",
       "      <td>plaquette(s) thermoformée(s) PVC (ACLAR RX) po...</td>\n",
       "      <td>1</td>\n",
       "      <td>0</td>\n",
       "      <td>0</td>\n",
       "      <td>0</td>\n",
       "      <td>0</td>\n",
       "      <td>0</td>\n",
       "      <td>0</td>\n",
       "      <td>0</td>\n",
       "      <td>...</td>\n",
       "      <td>65%</td>\n",
       "      <td>comprimé dispersible ou à croquer</td>\n",
       "      <td>orale</td>\n",
       "      <td>Autorisation active</td>\n",
       "      <td>2015</td>\n",
       "      <td>2012</td>\n",
       "      <td>Procédure de reconnaissance mutuelle</td>\n",
       "      <td>ARROW GENERIQUES</td>\n",
       "      <td>LAMOTRIGINE</td>\n",
       "      <td>18.95</td>\n",
       "    </tr>\n",
       "    <tr>\n",
       "      <th>8553</th>\n",
       "      <td>8553</td>\n",
       "      <td>1 seringue(s) préremplie(s) en verre de 10 ml</td>\n",
       "      <td>0</td>\n",
       "      <td>0</td>\n",
       "      <td>0</td>\n",
       "      <td>0</td>\n",
       "      <td>0</td>\n",
       "      <td>1</td>\n",
       "      <td>0</td>\n",
       "      <td>0</td>\n",
       "      <td>...</td>\n",
       "      <td>65%</td>\n",
       "      <td>solution injectable</td>\n",
       "      <td>intraveineuse</td>\n",
       "      <td>Autorisation active</td>\n",
       "      <td>2001</td>\n",
       "      <td>1999</td>\n",
       "      <td>Procédure nationale</td>\n",
       "      <td>BRACCO IMAGING FRANCE</td>\n",
       "      <td>GADOTÉRIDOL</td>\n",
       "      <td>42.49</td>\n",
       "    </tr>\n",
       "    <tr>\n",
       "      <th>8554</th>\n",
       "      <td>8554</td>\n",
       "      <td>plaquette(s) PVC PVDC aluminium de 90 gélule(s)</td>\n",
       "      <td>1</td>\n",
       "      <td>0</td>\n",
       "      <td>0</td>\n",
       "      <td>0</td>\n",
       "      <td>0</td>\n",
       "      <td>0</td>\n",
       "      <td>0</td>\n",
       "      <td>0</td>\n",
       "      <td>...</td>\n",
       "      <td>65%</td>\n",
       "      <td>gélule</td>\n",
       "      <td>orale</td>\n",
       "      <td>Autorisation active</td>\n",
       "      <td>2014</td>\n",
       "      <td>2013</td>\n",
       "      <td>Procédure décentralisée</td>\n",
       "      <td>PFIZER HOLDING FRANCE</td>\n",
       "      <td>GABAPENTINE</td>\n",
       "      <td>25.74</td>\n",
       "    </tr>\n",
       "    <tr>\n",
       "      <th>8555</th>\n",
       "      <td>8555</td>\n",
       "      <td>plaquette(s) thermoformée(s) PVC PVDC aluminiu...</td>\n",
       "      <td>1</td>\n",
       "      <td>0</td>\n",
       "      <td>0</td>\n",
       "      <td>0</td>\n",
       "      <td>0</td>\n",
       "      <td>0</td>\n",
       "      <td>0</td>\n",
       "      <td>0</td>\n",
       "      <td>...</td>\n",
       "      <td>15%</td>\n",
       "      <td>gélule</td>\n",
       "      <td>orale</td>\n",
       "      <td>Autorisation active</td>\n",
       "      <td>2011</td>\n",
       "      <td>2010</td>\n",
       "      <td>Procédure décentralisée</td>\n",
       "      <td>MYLAN SAS</td>\n",
       "      <td>RIVASTIGMINE (HYDROGÉNOTARTRATE DE), RIVASTIGM...</td>\n",
       "      <td>14.20</td>\n",
       "    </tr>\n",
       "    <tr>\n",
       "      <th>8556</th>\n",
       "      <td>8556</td>\n",
       "      <td>4 seringue(s) préremplie(s) en verre de 1 ml a...</td>\n",
       "      <td>0</td>\n",
       "      <td>0</td>\n",
       "      <td>0</td>\n",
       "      <td>0</td>\n",
       "      <td>0</td>\n",
       "      <td>1</td>\n",
       "      <td>0</td>\n",
       "      <td>0</td>\n",
       "      <td>...</td>\n",
       "      <td>65%</td>\n",
       "      <td>solution injectable</td>\n",
       "      <td>sous-cutanée</td>\n",
       "      <td>Autorisation active</td>\n",
       "      <td>2014</td>\n",
       "      <td>2012</td>\n",
       "      <td>Procédure centralisée</td>\n",
       "      <td>BRISTOL MYERS SQUIBB PHARMA (GRANDE BRETAGNE)</td>\n",
       "      <td>ABATACEPT</td>\n",
       "      <td>947.88</td>\n",
       "    </tr>\n",
       "    <tr>\n",
       "      <th>8557</th>\n",
       "      <td>8557</td>\n",
       "      <td>plaquette(s) thermoformée(s) aluminium de 30 g...</td>\n",
       "      <td>1</td>\n",
       "      <td>0</td>\n",
       "      <td>0</td>\n",
       "      <td>0</td>\n",
       "      <td>0</td>\n",
       "      <td>0</td>\n",
       "      <td>0</td>\n",
       "      <td>0</td>\n",
       "      <td>...</td>\n",
       "      <td>65%</td>\n",
       "      <td>gélule</td>\n",
       "      <td>orale</td>\n",
       "      <td>Autorisation active</td>\n",
       "      <td>2009</td>\n",
       "      <td>2009</td>\n",
       "      <td>Procédure nationale</td>\n",
       "      <td>BIOGARAN</td>\n",
       "      <td>FLUVASTATINE, FLUVASTATINE SODIQUE</td>\n",
       "      <td>6.12</td>\n",
       "    </tr>\n",
       "    <tr>\n",
       "      <th>8558</th>\n",
       "      <td>8558</td>\n",
       "      <td>plaquette(s) thermoformée(s) PVC PVDC aluminiu...</td>\n",
       "      <td>1</td>\n",
       "      <td>0</td>\n",
       "      <td>0</td>\n",
       "      <td>0</td>\n",
       "      <td>0</td>\n",
       "      <td>0</td>\n",
       "      <td>0</td>\n",
       "      <td>0</td>\n",
       "      <td>...</td>\n",
       "      <td>65%</td>\n",
       "      <td>comprimé</td>\n",
       "      <td>orale</td>\n",
       "      <td>Autorisation active</td>\n",
       "      <td>2010</td>\n",
       "      <td>2009</td>\n",
       "      <td>Procédure de reconnaissance mutuelle</td>\n",
       "      <td>EG LABO - LABORATOIRES EUROGENERICS</td>\n",
       "      <td>MÉLOXICAM</td>\n",
       "      <td>2.12</td>\n",
       "    </tr>\n",
       "    <tr>\n",
       "      <th>8559</th>\n",
       "      <td>8559</td>\n",
       "      <td>plaquette(s) thermoformée(s) polyamide alumini...</td>\n",
       "      <td>1</td>\n",
       "      <td>0</td>\n",
       "      <td>0</td>\n",
       "      <td>0</td>\n",
       "      <td>0</td>\n",
       "      <td>0</td>\n",
       "      <td>0</td>\n",
       "      <td>0</td>\n",
       "      <td>...</td>\n",
       "      <td>65%</td>\n",
       "      <td>comprimé orodispersible</td>\n",
       "      <td>orale</td>\n",
       "      <td>Autorisation active</td>\n",
       "      <td>2015</td>\n",
       "      <td>2008</td>\n",
       "      <td>Procédure décentralisée</td>\n",
       "      <td>RATIOPHARM (ALLEMAGNE)</td>\n",
       "      <td>OLANZAPINE</td>\n",
       "      <td>43.50</td>\n",
       "    </tr>\n",
       "    <tr>\n",
       "      <th>8560</th>\n",
       "      <td>8560</td>\n",
       "      <td>12 seringue(s) préremplie(s) en verre de 0,5  ...</td>\n",
       "      <td>0</td>\n",
       "      <td>0</td>\n",
       "      <td>0</td>\n",
       "      <td>0</td>\n",
       "      <td>0</td>\n",
       "      <td>1</td>\n",
       "      <td>0</td>\n",
       "      <td>0</td>\n",
       "      <td>...</td>\n",
       "      <td>65%</td>\n",
       "      <td>solution injectable</td>\n",
       "      <td>sous-cutanée</td>\n",
       "      <td>Autorisation active</td>\n",
       "      <td>1999</td>\n",
       "      <td>1998</td>\n",
       "      <td>Procédure centralisée</td>\n",
       "      <td>MERCK SERONO EUROPE (ROYAUME-UNI)</td>\n",
       "      <td>INTERFÉRON BÊTA-1A</td>\n",
       "      <td>781.37</td>\n",
       "    </tr>\n",
       "    <tr>\n",
       "      <th>8561</th>\n",
       "      <td>8561</td>\n",
       "      <td>flacon(s) polyéthylène haute densité (PEHD) de...</td>\n",
       "      <td>0</td>\n",
       "      <td>0</td>\n",
       "      <td>1</td>\n",
       "      <td>0</td>\n",
       "      <td>0</td>\n",
       "      <td>0</td>\n",
       "      <td>0</td>\n",
       "      <td>0</td>\n",
       "      <td>...</td>\n",
       "      <td>65%</td>\n",
       "      <td>comprimé gastro-résistant(e)</td>\n",
       "      <td>orale</td>\n",
       "      <td>Autorisation active</td>\n",
       "      <td>2014</td>\n",
       "      <td>2008</td>\n",
       "      <td>Procédure nationale</td>\n",
       "      <td>CRISTERS</td>\n",
       "      <td>PANTOPRAZOLE SODIQUE SESQUIHYDRATÉ, PANTOPRAZOLE</td>\n",
       "      <td>3.94</td>\n",
       "    </tr>\n",
       "    <tr>\n",
       "      <th>8562</th>\n",
       "      <td>8562</td>\n",
       "      <td>plaquette(s) thermoformée(s) PVC-Aluminium PVD...</td>\n",
       "      <td>1</td>\n",
       "      <td>0</td>\n",
       "      <td>0</td>\n",
       "      <td>0</td>\n",
       "      <td>0</td>\n",
       "      <td>0</td>\n",
       "      <td>0</td>\n",
       "      <td>0</td>\n",
       "      <td>...</td>\n",
       "      <td>65%</td>\n",
       "      <td>comprimé pelliculé sécable</td>\n",
       "      <td>orale</td>\n",
       "      <td>Autorisation active</td>\n",
       "      <td>2009</td>\n",
       "      <td>2001</td>\n",
       "      <td>Procédure nationale</td>\n",
       "      <td>ARROW GENERIQUES</td>\n",
       "      <td>ATÉNOLOL</td>\n",
       "      <td>14.21</td>\n",
       "    </tr>\n",
       "    <tr>\n",
       "      <th>8563</th>\n",
       "      <td>8563</td>\n",
       "      <td>plaquette(s) thermoformée(s) PVC PVDC aluminiu...</td>\n",
       "      <td>1</td>\n",
       "      <td>0</td>\n",
       "      <td>0</td>\n",
       "      <td>0</td>\n",
       "      <td>0</td>\n",
       "      <td>0</td>\n",
       "      <td>0</td>\n",
       "      <td>0</td>\n",
       "      <td>...</td>\n",
       "      <td>65%</td>\n",
       "      <td>gélule</td>\n",
       "      <td>orale</td>\n",
       "      <td>Autorisation active</td>\n",
       "      <td>2007</td>\n",
       "      <td>2007</td>\n",
       "      <td>Procédure nationale</td>\n",
       "      <td>ZYDUS FRANCE</td>\n",
       "      <td>AMLODIPINE, AMLODIPINE (BÉSILATE D')</td>\n",
       "      <td>4.82</td>\n",
       "    </tr>\n",
       "  </tbody>\n",
       "</table>\n",
       "<p>8564 rows × 42 columns</p>\n",
       "</div>"
      ],
      "text/plain": [
       "      index                                            libelle  \\\n",
       "0         0  3 plaquette(s) thermoformée(s) PVC-Aluminium d...   \n",
       "1         1  plaquette(s) thermoformée(s) aluminium de 28 c...   \n",
       "2         2  plaquette(s) thermoformée(s) PVC-aluminium de ...   \n",
       "3         3  30 sachet(s)-dose(s) papier aluminium complexe...   \n",
       "4         4  plaquette(s) thermoformée(s) PVC-Aluminium de ...   \n",
       "5         5  plaquette(s) thermoformée(s) PVC-aluminium de ...   \n",
       "6         6  flacon(s) polyéthylène haute densité (PEHD) de...   \n",
       "7         7  plaquette(s) thermoformée(s) PVC polyéthylène ...   \n",
       "8         8  plaquette(s) thermoformée(s) PVC-Aluminium de ...   \n",
       "9         9  plaquette(s) polyamide aluminium PVC de 10 com...   \n",
       "10       10  4 sachet(s) papier aluminium polyéthylène de 1...   \n",
       "11       11  1 inhalateur(s) multidose(s) avec embout(s) bu...   \n",
       "12       12  plaquette(s) thermoformée(s) polyamide alumini...   \n",
       "13       13  plaquette(s) thermoformée(s) polyamide alumini...   \n",
       "14       14  3 plaquette(s) thermoformée(s) polyamide PVC-A...   \n",
       "15       15  1 flacon(s) en verre brun de 30 ml avec mesure...   \n",
       "16       16  plaquette(s) thermoformée(s) PVC PVDC aluminiu...   \n",
       "17       17  plaquette(s) thermoformée(s) PVC-aluminium de ...   \n",
       "18       18  plaquette(s) thermoformée(s) PVC polyéthylène ...   \n",
       "19       19  plaquette(s) thermoformée(s) PVC-Aluminium de ...   \n",
       "20       20  plaquette(s) thermoformée(s) PVC PVDC aluminiu...   \n",
       "21       21  plaquette(s) thermoformée(s) PVC PVDC aluminiu...   \n",
       "22       22  plaquette(s) thermoformée(s) PVC-Aluminium de ...   \n",
       "23       23           tube(s) polypropylène de 30  comprimé(s)   \n",
       "24       24  plaquette(s) polyamide aluminium PVC-Aluminium...   \n",
       "25       25  plaquette(s) thermoformée(s) PVC PVDC aluminiu...   \n",
       "26       26  5 sachet(s) polyester aluminium P-A-M-éthylène...   \n",
       "27       27  plaquette(s) thermoformée(s) PVC-Aluminium de ...   \n",
       "28       28  flacon(s) polyéthylène haute densité (PEHD) de...   \n",
       "29       29  plaquette(s) thermoformée(s) PVC-Aluminium de ...   \n",
       "...     ...                                                ...   \n",
       "8534   8534                  1 tube(s) aluminium verni de 30 g   \n",
       "8535   8535             tube(s) polypropylène de 8 comprimé(s)   \n",
       "8536   8536  plaquette(s) thermoformée(s) PVC PVDC aluminiu...   \n",
       "8537   8537  1 plaquette(s) thermoformée(s) PVC-Aluminium d...   \n",
       "8538   8538  plaquette(s) thermoformée(s) PVC de 10  suppos...   \n",
       "8539   8539                    5 cartouche(s) en verre de 3 ml   \n",
       "8540   8540                    1 tube(s) polyéthylène de 250 g   \n",
       "8541   8541  plaquette(s) thermoformée(s) PVC polyéthylène ...   \n",
       "8542   8542  plaquette(s) thermoformée(s) polyamide PVC-alu...   \n",
       "8543   8543  plaquette(s) thermoformée(s) PVC PVDC aluminiu...   \n",
       "8544   8544  plaquette(s) thermoformée(s) PVC PVDC aluminiu...   \n",
       "8545   8545  2 stylo prérempli en verre de 0,3 ml avec aigu...   \n",
       "8546   8546  1 flacon(s) en verre jaune(brun) de 10  ml ave...   \n",
       "8547   8547  2 plaquette(s) thermoformée(s) PVC PVDC alumin...   \n",
       "8548   8548  plaquette(s) thermoformée(s) aluminium PVC de ...   \n",
       "8549   8549  plaquette(s) thermoformée(s) PVC PVDC aluminiu...   \n",
       "8550   8550  30 sachet(s) papier aluminium polyéthylène de ...   \n",
       "8551   8551  flacon(s) polyéthylène haute densité (PEHD) de...   \n",
       "8552   8552  plaquette(s) thermoformée(s) PVC (ACLAR RX) po...   \n",
       "8553   8553      1 seringue(s) préremplie(s) en verre de 10 ml   \n",
       "8554   8554    plaquette(s) PVC PVDC aluminium de 90 gélule(s)   \n",
       "8555   8555  plaquette(s) thermoformée(s) PVC PVDC aluminiu...   \n",
       "8556   8556  4 seringue(s) préremplie(s) en verre de 1 ml a...   \n",
       "8557   8557  plaquette(s) thermoformée(s) aluminium de 30 g...   \n",
       "8558   8558  plaquette(s) thermoformée(s) PVC PVDC aluminiu...   \n",
       "8559   8559  plaquette(s) thermoformée(s) polyamide alumini...   \n",
       "8560   8560  12 seringue(s) préremplie(s) en verre de 0,5  ...   \n",
       "8561   8561  flacon(s) polyéthylène haute densité (PEHD) de...   \n",
       "8562   8562  plaquette(s) thermoformée(s) PVC-Aluminium PVD...   \n",
       "8563   8563  plaquette(s) thermoformée(s) PVC PVDC aluminiu...   \n",
       "\n",
       "      libelle_plaquette  libelle_ampoule  libelle_flacon  libelle_tube  \\\n",
       "0                     1                0               0             0   \n",
       "1                     1                0               0             0   \n",
       "2                     1                0               0             0   \n",
       "3                     0                0               0             0   \n",
       "4                     1                0               0             0   \n",
       "5                     1                0               0             0   \n",
       "6                     0                0               1             0   \n",
       "7                     1                0               0             0   \n",
       "8                     1                0               0             0   \n",
       "9                     1                0               0             0   \n",
       "10                    0                0               0             0   \n",
       "11                    0                0               0             0   \n",
       "12                    1                0               0             0   \n",
       "13                    1                0               0             0   \n",
       "14                    1                0               0             0   \n",
       "15                    0                0               1             0   \n",
       "16                    1                0               0             0   \n",
       "17                    1                0               0             0   \n",
       "18                    1                0               0             0   \n",
       "19                    1                0               0             0   \n",
       "20                    1                0               0             0   \n",
       "21                    1                0               0             0   \n",
       "22                    1                0               0             0   \n",
       "23                    0                0               0             1   \n",
       "24                    1                0               0             0   \n",
       "25                    1                0               0             0   \n",
       "26                    0                0               0             0   \n",
       "27                    1                0               0             0   \n",
       "28                    0                0               1             0   \n",
       "29                    1                0               0             0   \n",
       "...                 ...              ...             ...           ...   \n",
       "8534                  0                0               0             1   \n",
       "8535                  0                0               0             1   \n",
       "8536                  1                0               0             0   \n",
       "8537                  1                0               0             0   \n",
       "8538                  1                0               0             0   \n",
       "8539                  0                0               0             0   \n",
       "8540                  0                0               0             1   \n",
       "8541                  1                0               0             0   \n",
       "8542                  1                0               0             0   \n",
       "8543                  1                0               0             0   \n",
       "8544                  1                0               0             0   \n",
       "8545                  0                0               0             0   \n",
       "8546                  0                0               1             0   \n",
       "8547                  1                0               0             0   \n",
       "8548                  1                0               0             0   \n",
       "8549                  1                0               0             0   \n",
       "8550                  0                0               0             0   \n",
       "8551                  0                0               1             0   \n",
       "8552                  1                0               0             0   \n",
       "8553                  0                0               0             0   \n",
       "8554                  1                0               0             0   \n",
       "8555                  1                0               0             0   \n",
       "8556                  0                0               0             0   \n",
       "8557                  1                0               0             0   \n",
       "8558                  1                0               0             0   \n",
       "8559                  1                0               0             0   \n",
       "8560                  0                0               0             0   \n",
       "8561                  0                0               1             0   \n",
       "8562                  1                0               0             0   \n",
       "8563                  1                0               0             0   \n",
       "\n",
       "      libelle_stylo  libelle_seringue  libelle_pilulier  libelle_sachet  \\\n",
       "0                 0                 0                 0               0   \n",
       "1                 0                 0                 0               0   \n",
       "2                 0                 0                 0               0   \n",
       "3                 0                 0                 0               1   \n",
       "4                 0                 0                 0               0   \n",
       "5                 0                 0                 0               0   \n",
       "6                 0                 0                 0               0   \n",
       "7                 0                 0                 0               0   \n",
       "8                 0                 0                 0               0   \n",
       "9                 0                 0                 0               0   \n",
       "10                0                 0                 0               1   \n",
       "11                0                 0                 0               0   \n",
       "12                0                 0                 0               0   \n",
       "13                0                 0                 0               0   \n",
       "14                0                 0                 0               0   \n",
       "15                0                 0                 0               0   \n",
       "16                0                 0                 0               0   \n",
       "17                0                 0                 0               0   \n",
       "18                0                 0                 0               0   \n",
       "19                0                 0                 0               0   \n",
       "20                0                 0                 0               0   \n",
       "21                0                 0                 0               0   \n",
       "22                0                 0                 0               0   \n",
       "23                0                 0                 0               0   \n",
       "24                0                 0                 0               0   \n",
       "25                0                 0                 0               0   \n",
       "26                0                 0                 0               1   \n",
       "27                0                 0                 0               0   \n",
       "28                0                 0                 0               0   \n",
       "29                0                 0                 0               0   \n",
       "...             ...               ...               ...             ...   \n",
       "8534              0                 0                 0               0   \n",
       "8535              0                 0                 0               0   \n",
       "8536              0                 0                 0               0   \n",
       "8537              0                 0                 0               0   \n",
       "8538              0                 0                 0               0   \n",
       "8539              0                 0                 0               0   \n",
       "8540              0                 0                 0               0   \n",
       "8541              0                 0                 0               0   \n",
       "8542              0                 0                 0               0   \n",
       "8543              0                 0                 0               0   \n",
       "8544              0                 0                 0               0   \n",
       "8545              1                 0                 0               0   \n",
       "8546              0                 0                 0               0   \n",
       "8547              0                 0                 0               0   \n",
       "8548              0                 0                 0               0   \n",
       "8549              0                 0                 0               0   \n",
       "8550              0                 0                 0               1   \n",
       "8551              0                 0                 0               0   \n",
       "8552              0                 0                 0               0   \n",
       "8553              0                 1                 0               0   \n",
       "8554              0                 0                 0               0   \n",
       "8555              0                 0                 0               0   \n",
       "8556              0                 1                 0               0   \n",
       "8557              0                 0                 0               0   \n",
       "8558              0                 0                 0               0   \n",
       "8559              0                 0                 0               0   \n",
       "8560              0                 1                 0               0   \n",
       "8561              0                 0                 0               0   \n",
       "8562              0                 0                 0               0   \n",
       "8563              0                 0                 0               0   \n",
       "\n",
       "       ...    tx rembours                               forme pharma  \\\n",
       "0      ...            65%                         comprimé pelliculé   \n",
       "1      ...            65%                         comprimé à croquer   \n",
       "2      ...            65%              gélule à libération prolongée   \n",
       "3      ...            65%            granulés à libération prolongée   \n",
       "4      ...           100%                         comprimé pelliculé   \n",
       "5      ...           100%                                   comprimé   \n",
       "6      ...           100%                              capsule molle   \n",
       "7      ...            65%                                   comprimé   \n",
       "8      ...            65%                           comprimé sécable   \n",
       "9      ...            65%                         comprimé pelliculé   \n",
       "10     ...            65%                                 dispositif   \n",
       "11     ...            65%                     poudre pour inhalation   \n",
       "12     ...            65%                                   comprimé   \n",
       "13     ...            65%                           comprimé sécable   \n",
       "14     ...            65%                                   comprimé   \n",
       "15     ...            65%                   solution buvable gouttes   \n",
       "16     ...            15%        comprimé dispersible orodispersible   \n",
       "17     ...            65%                                   comprimé   \n",
       "18     ...            65%                         comprimé pelliculé   \n",
       "19     ...            65%              gélule à libération prolongée   \n",
       "20     ...            65%                                   comprimé   \n",
       "21     ...            65%                 comprimé pelliculé sécable   \n",
       "22     ...            65%              gélule à libération prolongée   \n",
       "23     ...            65%                     comprimé quadrisécable   \n",
       "24     ...            65%                 comprimé pelliculé sécable   \n",
       "25     ...            65%                                   comprimé   \n",
       "26     ...            65%                                 dispositif   \n",
       "27     ...            65%  comprimé pelliculé à libération prolongée   \n",
       "28     ...            65%                 gélule gastro-résistant(e)   \n",
       "29     ...            65%                              capsule molle   \n",
       "...    ...            ...                                        ...   \n",
       "8534   ...            30%                                      crème   \n",
       "8535   ...            65%           comprimé effervescent(e) sécable   \n",
       "8536   ...            65%                 comprimé pelliculé sécable   \n",
       "8537   ...            65%             comprimé à libération modifiée   \n",
       "8538   ...            15%                               suppositoire   \n",
       "8539   ...            65%                      suspension injectable   \n",
       "8540   ...            15%                                      crème   \n",
       "8541   ...            65%                               suppositoire   \n",
       "8542   ...            65%                         comprimé pelliculé   \n",
       "8543   ...            65%                         comprimé pelliculé   \n",
       "8544   ...            65%                         comprimé pelliculé   \n",
       "8545   ...            65%                        solution injectable   \n",
       "8546   ...            65%                        collyre en solution   \n",
       "8547   ...            65%                         comprimé pelliculé   \n",
       "8548   ...            65%                                     gélule   \n",
       "8549   ...            65%                 comprimé pelliculé sécable   \n",
       "8550   ...            65%               poudre pour solution buvable   \n",
       "8551   ...            65%                         comprimé pelliculé   \n",
       "8552   ...            65%          comprimé dispersible ou à croquer   \n",
       "8553   ...            65%                        solution injectable   \n",
       "8554   ...            65%                                     gélule   \n",
       "8555   ...            15%                                     gélule   \n",
       "8556   ...            65%                        solution injectable   \n",
       "8557   ...            65%                                     gélule   \n",
       "8558   ...            65%                                   comprimé   \n",
       "8559   ...            65%                    comprimé orodispersible   \n",
       "8560   ...            65%                        solution injectable   \n",
       "8561   ...            65%               comprimé gastro-résistant(e)   \n",
       "8562   ...            65%                 comprimé pelliculé sécable   \n",
       "8563   ...            65%                                     gélule   \n",
       "\n",
       "                       voies admin          statut admin  date declar annee  \\\n",
       "0                            orale   Autorisation active               2014   \n",
       "1                            orale   Autorisation active               2013   \n",
       "2                            orale   Autorisation active               2000   \n",
       "3                            orale   Autorisation active               2005   \n",
       "4                            orale   Autorisation active               2015   \n",
       "5                            orale   Autorisation active               2001   \n",
       "6                            orale   Autorisation active               2015   \n",
       "7                            orale   Autorisation active               2006   \n",
       "8                            orale   Autorisation active               2013   \n",
       "9                            orale   Autorisation active               2015   \n",
       "10                   transdermique   Autorisation active               2003   \n",
       "11                         inhalée   Autorisation active               2012   \n",
       "12                           orale   Autorisation active               2015   \n",
       "13                           orale   Autorisation active               2013   \n",
       "14                           orale   Autorisation active               2008   \n",
       "15                           orale   Autorisation active               1981   \n",
       "16                           orale  Autorisation abrogée               2014   \n",
       "17                           orale   Autorisation active               2002   \n",
       "18                           orale   Autorisation active               2006   \n",
       "19                           orale   Autorisation active               2004   \n",
       "20                           orale   Autorisation active               2012   \n",
       "21                           orale   Autorisation active               2014   \n",
       "22                           orale   Autorisation active               2012   \n",
       "23                           orale   Autorisation active               1981   \n",
       "24                           orale   Autorisation active               2014   \n",
       "25                           orale   Autorisation active               2013   \n",
       "26                   transdermique   Autorisation active               2014   \n",
       "27                           orale   Autorisation active               1996   \n",
       "28                           orale   Autorisation active               2012   \n",
       "29                  orale,vaginale   Autorisation active               2011   \n",
       "...                            ...                   ...                ...   \n",
       "8534                       cutanée   Autorisation active               1998   \n",
       "8535                         orale   Autorisation active               2015   \n",
       "8536                         orale   Autorisation active               2010   \n",
       "8537                         orale   Autorisation active               2011   \n",
       "8538                       rectale   Autorisation active               1965   \n",
       "8539  intramusculaire,sous-cutanée   Autorisation active               1999   \n",
       "8540                       cutanée   Autorisation active               1999   \n",
       "8541                       rectale   Autorisation active               1995   \n",
       "8542                         orale   Autorisation active               1998   \n",
       "8543                         orale   Autorisation active               2015   \n",
       "8544                         orale   Autorisation active               2010   \n",
       "8545               intramusculaire   Autorisation active               2014   \n",
       "8546                   ophtalmique   Autorisation active               1968   \n",
       "8547                         orale   Autorisation active               2012   \n",
       "8548                         orale   Autorisation active               2005   \n",
       "8549                         orale   Autorisation active               2011   \n",
       "8550                         orale   Autorisation active               2001   \n",
       "8551                         orale   Autorisation active               2015   \n",
       "8552                         orale   Autorisation active               2015   \n",
       "8553                 intraveineuse   Autorisation active               2001   \n",
       "8554                         orale   Autorisation active               2014   \n",
       "8555                         orale   Autorisation active               2011   \n",
       "8556                  sous-cutanée   Autorisation active               2014   \n",
       "8557                         orale   Autorisation active               2009   \n",
       "8558                         orale   Autorisation active               2010   \n",
       "8559                         orale   Autorisation active               2015   \n",
       "8560                  sous-cutanée   Autorisation active               1999   \n",
       "8561                         orale   Autorisation active               2014   \n",
       "8562                         orale   Autorisation active               2009   \n",
       "8563                         orale   Autorisation active               2007   \n",
       "\n",
       "      date amm annee                             type proc  \\\n",
       "0               2014               Procédure décentralisée   \n",
       "1               2009  Procédure de reconnaissance mutuelle   \n",
       "2               1996                   Procédure nationale   \n",
       "3               2004                   Procédure nationale   \n",
       "4               2010                   Procédure nationale   \n",
       "5               2000                   Procédure nationale   \n",
       "6               2001                 Procédure centralisée   \n",
       "7               2006  Procédure de reconnaissance mutuelle   \n",
       "8               2002                   Procédure nationale   \n",
       "9               2012                   Procédure nationale   \n",
       "10              2002                   Procédure nationale   \n",
       "11              2011  Autorisation d'importation parallèle   \n",
       "12              2005                   Procédure nationale   \n",
       "13              2008  Procédure de reconnaissance mutuelle   \n",
       "14              1998                 Procédure centralisée   \n",
       "15              1989                   Procédure nationale   \n",
       "16              2005                   Procédure nationale   \n",
       "17              2002                   Procédure nationale   \n",
       "18              1987                   Procédure nationale   \n",
       "19              2003  Procédure de reconnaissance mutuelle   \n",
       "20              2011               Procédure décentralisée   \n",
       "21              2010                   Procédure nationale   \n",
       "22              2009                   Procédure nationale   \n",
       "23              1988                   Procédure nationale   \n",
       "24              2014               Procédure décentralisée   \n",
       "25              2006  Procédure de reconnaissance mutuelle   \n",
       "26              2010               Procédure décentralisée   \n",
       "27              1994  Procédure de reconnaissance mutuelle   \n",
       "28              2010                   Procédure nationale   \n",
       "29              2003                   Procédure nationale   \n",
       "...              ...                                   ...   \n",
       "8534            1997                   Procédure nationale   \n",
       "8535            2005                   Procédure nationale   \n",
       "8536            2007               Procédure décentralisée   \n",
       "8537            2011  Autorisation d'importation parallèle   \n",
       "8538            1993                   Procédure nationale   \n",
       "8539            1996  Procédure de reconnaissance mutuelle   \n",
       "8540            1991                   Procédure nationale   \n",
       "8541            1984                   Procédure nationale   \n",
       "8542            1998  Procédure de reconnaissance mutuelle   \n",
       "8543            2012               Procédure décentralisée   \n",
       "8544            2009  Procédure de reconnaissance mutuelle   \n",
       "8545            2013               Procédure décentralisée   \n",
       "8546            1997                   Procédure nationale   \n",
       "8547            2007                 Procédure centralisée   \n",
       "8548            2005                   Procédure nationale   \n",
       "8549            2011                   Procédure nationale   \n",
       "8550            1988                   Procédure nationale   \n",
       "8551            2015               Procédure décentralisée   \n",
       "8552            2012  Procédure de reconnaissance mutuelle   \n",
       "8553            1999                   Procédure nationale   \n",
       "8554            2013               Procédure décentralisée   \n",
       "8555            2010               Procédure décentralisée   \n",
       "8556            2012                 Procédure centralisée   \n",
       "8557            2009                   Procédure nationale   \n",
       "8558            2009  Procédure de reconnaissance mutuelle   \n",
       "8559            2008               Procédure décentralisée   \n",
       "8560            1998                 Procédure centralisée   \n",
       "8561            2008                   Procédure nationale   \n",
       "8562            2001                   Procédure nationale   \n",
       "8563            2007                   Procédure nationale   \n",
       "\n",
       "                                          titulaires  \\\n",
       "0          MAJORELLE LUXEMBOURG SOPARFI (LUXEMBOURG)   \n",
       "1                                         TEVA SANTE   \n",
       "2                                          MYLAN SAS   \n",
       "3                              SANOFI AVENTIS FRANCE   \n",
       "4                                         TEVA SANTE   \n",
       "5                EG LABO - LABORATOIRES EUROGENERICS   \n",
       "6                                EISAI (ROYAUME-UNI)   \n",
       "7                                             SANDOZ   \n",
       "8                                   ARROW GENERIQUES   \n",
       "9                                   ARROW GENERIQUES   \n",
       "10                           PIERRE FABRE MEDICAMENT   \n",
       "11                                           MEDIWIN   \n",
       "12                                  ARROW GENERIQUES   \n",
       "13                            RATIOPHARM (ALLEMAGNE)   \n",
       "14                          BAYER PHARMA (ALLEMAGNE)   \n",
       "15                             SANOFI AVENTIS FRANCE   \n",
       "16                      RANBAXY PHARMACIE GENERIQUES   \n",
       "17                                  ARROW GENERIQUES   \n",
       "18                                      LUNDBECK SAS   \n",
       "19                            THERABEL LUCIEN PHARMA   \n",
       "20                                   KRKA (SLOVENIE)   \n",
       "21                                        TEVA SANTE   \n",
       "22                                  ARROW GENERIQUES   \n",
       "23                                             ROCHE   \n",
       "24                                   KRKA (SLOVENIE)   \n",
       "25                            RATIOPHARM (ALLEMAGNE)   \n",
       "26                      RANBAXY PHARMACIE GENERIQUES   \n",
       "27                          LES LABORATOIRES SERVIER   \n",
       "28                                   KRKA (SLOVENIE)   \n",
       "29                     BESINS INTERNATIONAL (FRANCE)   \n",
       "...                                              ...   \n",
       "8534                          GALDERMA INTERNATIONAL   \n",
       "8535                                      TEVA SANTE   \n",
       "8536                                      TEVA SANTE   \n",
       "8537                               BB FARMA (ITALIE)   \n",
       "8538                                      TEVA SANTE   \n",
       "8539                                    LILLY FRANCE   \n",
       "8540                         PIERRE FABRE MEDICAMENT   \n",
       "8541                                            UPSA   \n",
       "8542                                      MSD FRANCE   \n",
       "8543                                      TEVA SANTE   \n",
       "8544                                          SANDOZ   \n",
       "8545                            MEDA PHARMA (FRANCE)   \n",
       "8546                                            THEA   \n",
       "8547                           SANOFI-AVENTIS GROUPE   \n",
       "8548                                       MYLAN SAS   \n",
       "8549             EG LABO - LABORATOIRES EUROGENERICS   \n",
       "8550                                          SANDOZ   \n",
       "8551                                       MYLAN SAS   \n",
       "8552                                ARROW GENERIQUES   \n",
       "8553                           BRACCO IMAGING FRANCE   \n",
       "8554                           PFIZER HOLDING FRANCE   \n",
       "8555                                       MYLAN SAS   \n",
       "8556   BRISTOL MYERS SQUIBB PHARMA (GRANDE BRETAGNE)   \n",
       "8557                                        BIOGARAN   \n",
       "8558             EG LABO - LABORATOIRES EUROGENERICS   \n",
       "8559                          RATIOPHARM (ALLEMAGNE)   \n",
       "8560               MERCK SERONO EUROPE (ROYAUME-UNI)   \n",
       "8561                                        CRISTERS   \n",
       "8562                                ARROW GENERIQUES   \n",
       "8563                                    ZYDUS FRANCE   \n",
       "\n",
       "                                             substances    prix  \n",
       "0                                           DÉSOGESTREL    2.83  \n",
       "1                MONTÉLUKAST ACIDE, MONTÉLUKAST SODIQUE   14.30  \n",
       "2                             CHLORHYDRATE DE DILTIAZEM    5.66  \n",
       "3                 ACIDE VALPROÏQUE, VALPROATE DE SODIUM   24.27  \n",
       "4                                             LÉTROZOLE   59.94  \n",
       "5                                             FLUTAMIDE   27.17  \n",
       "6                                            BEXAROTÈNE  877.83  \n",
       "7                                           GLIMÉPIRIDE    6.58  \n",
       "8                                   MALÉATE D'ÉNALAPRIL   18.63  \n",
       "9                     CEFPODOXIME PROXÉTIL, CEFPODOXIME    6.13  \n",
       "10                     ESTRADIOL, ESTRADIOL HÉMIHYDRATÉ    6.25  \n",
       "11         FUMARATE DE FORMOTÉROL DIHYDRATÉ, BUDÉSONIDE   39.66  \n",
       "12                                 PRAVASTATINE SODIQUE   22.04  \n",
       "13    PÉRINDOPRIL TERT-BUTYLAMINE, PÉRINDOPRIL, INDA...    6.36  \n",
       "14                                          TELMISARTAN    9.62  \n",
       "15                   TRIHEXYPHÉNIDYLE (CHLORHYDRATE DE)    2.79  \n",
       "16                               PHLOROGLUCINOL HYDRATÉ    1.33  \n",
       "17                                            ACICLOVIR    9.46  \n",
       "18    ZUCLOPENTHIXOL (DICHLORHYDRATE DE), ZUCLOPENTH...   10.02  \n",
       "19                             CHLORHYDRATE DE TRAMADOL    9.79  \n",
       "20           HYDROCHLOROTHIAZIDE, CANDÉSARTAN CILEXÉTIL    6.36  \n",
       "21            LÉVOFLOXACINE HÉMIHYDRATÉE, LÉVOFLOXACINE   10.99  \n",
       "22                             CHLORHYDRATE DE TRAMADOL   10.32  \n",
       "23                                           BROMAZÉPAM    1.71  \n",
       "24                 OXALATE D'ESCITALOPRAM, ESCITALOPRAM   13.03  \n",
       "25                                          GLIMÉPIRIDE    2.53  \n",
       "26                                             FENTANYL   12.86  \n",
       "27                               INDAPAMIDE HÉMIHYDRATÉ    5.02  \n",
       "28                                           OMÉPRAZOLE    8.14  \n",
       "29                                         PROGESTÉRONE   13.39  \n",
       "...                                                 ...     ...  \n",
       "8534                                          ADAPALÈNE    4.31  \n",
       "8535                                        PARACÉTAMOL    1.08  \n",
       "8536                                LOSARTAN POTASSIQUE   18.14  \n",
       "8537                                         GLICLAZIDE   11.43  \n",
       "8538  PHLOROGLUCINOL HYDRATÉ, PHLOROGLUCINOL ANHYDRE...    2.01  \n",
       "8539            INSULINE HUMAINE RECOMBINANTE ISOPHANE    32.67  \n",
       "8540              VASELINE, PARAFFINE LIQUIDE, GLYCÉROL    3.15  \n",
       "8541                                        PARACÉTAMOL    1.20  \n",
       "8542             MONTÉLUKAST SODIQUE, MONTÉLUKAST ACIDE   23.31  \n",
       "8543  ACIDE RISÉDRONIQUE, RISÉDRONATE MONOSODIQUE AN...   16.46  \n",
       "8544             CHLORHYDRATE DE METFORMINE, METFORMINE    4.71  \n",
       "8545                                         ADRÉNALINE   74.04  \n",
       "8546                                 RIFAMYCINE SODIQUE    2.23  \n",
       "8547                                         IRBÉSARTAN    5.71  \n",
       "8548        CHLORHYDRATE DE SERTRALINE, SERTRALINE BASE    7.72  \n",
       "8549                                  NAPROXÈNE SODIQUE    1.97  \n",
       "8550  CALCIUM ÉLÉMENT, CALCIUM (CARBONATE DE), CALCI...    2.85  \n",
       "8551                             CARBONATE DE SÉVÉLAMER   83.03  \n",
       "8552                                        LAMOTRIGINE   18.95  \n",
       "8553                                        GADOTÉRIDOL   42.49  \n",
       "8554                                        GABAPENTINE   25.74  \n",
       "8555  RIVASTIGMINE (HYDROGÉNOTARTRATE DE), RIVASTIGM...   14.20  \n",
       "8556                                         ABATACEPT   947.88  \n",
       "8557                 FLUVASTATINE, FLUVASTATINE SODIQUE    6.12  \n",
       "8558                                          MÉLOXICAM    2.12  \n",
       "8559                                         OLANZAPINE   43.50  \n",
       "8560                                INTERFÉRON BÊTA-1A   781.37  \n",
       "8561   PANTOPRAZOLE SODIQUE SESQUIHYDRATÉ, PANTOPRAZOLE    3.94  \n",
       "8562                                           ATÉNOLOL   14.21  \n",
       "8563               AMLODIPINE, AMLODIPINE (BÉSILATE D')    4.82  \n",
       "\n",
       "[8564 rows x 42 columns]"
      ]
     },
     "execution_count": 94,
     "metadata": {},
     "output_type": "execute_result"
    }
   ],
   "source": [
    "df[0:8564]"
   ]
  },
  {
   "cell_type": "markdown",
   "metadata": {},
   "source": [
    "# Select a few features for first test"
   ]
  },
  {
   "cell_type": "code",
   "execution_count": 662,
   "metadata": {
    "collapsed": true
   },
   "outputs": [],
   "source": [
    "train = pd.read_csv('boites_medicaments_train.csv', sep = \";\")\n",
    "test = pd.read_csv('boites_medicaments_test.csv', sep = \";\")\n",
    "train = train[train.prix < 30]\n",
    "del test['id']\n",
    "test['prix'] = 0\n",
    "\n",
    "df = pd.concat([train, test], ignore_index=True)\n",
    "df = df.reset_index()"
   ]
  },
  {
   "cell_type": "code",
   "execution_count": 663,
   "metadata": {
    "collapsed": false
   },
   "outputs": [
    {
     "data": {
      "text/plain": [
       "count    7158.000000\n",
       "mean        9.100629\n",
       "std         7.233601\n",
       "min         0.600000\n",
       "25%         3.442500\n",
       "50%         6.360000\n",
       "75%        13.460000\n",
       "max        29.690000\n",
       "Name: prix, dtype: float64"
      ]
     },
     "execution_count": 663,
     "metadata": {},
     "output_type": "execute_result"
    }
   ],
   "source": [
    "train.prix.describe()"
   ]
  },
  {
   "cell_type": "code",
   "execution_count": null,
   "metadata": {
    "collapsed": false
   },
   "outputs": [],
   "source": []
  },
  {
   "cell_type": "code",
   "execution_count": 668,
   "metadata": {
    "collapsed": false
   },
   "outputs": [
    {
     "data": {
      "text/plain": [
       "['index',\n",
       " 'libelle',\n",
       " 'libelle_plaquette',\n",
       " 'libelle_ampoule',\n",
       " 'libelle_flacon',\n",
       " 'libelle_tube',\n",
       " 'libelle_stylo',\n",
       " 'libelle_seringue',\n",
       " 'libelle_pilulier',\n",
       " 'libelle_sachet',\n",
       " 'libelle_comprime',\n",
       " 'libelle_gelule',\n",
       " 'libelle_film',\n",
       " 'libelle_poche',\n",
       " 'libelle_capsule',\n",
       " 'nb_plaquette',\n",
       " 'nb_ampoule',\n",
       " 'nb_flacon',\n",
       " 'nb_tube',\n",
       " 'nb_stylo',\n",
       " 'nb_seringue',\n",
       " 'nb_pilulier',\n",
       " 'nb_sachet',\n",
       " 'nb_comprime',\n",
       " 'nb_gelule',\n",
       " 'nb_film',\n",
       " 'nb_poche',\n",
       " 'nb_capsule',\n",
       " 'nb_ml',\n",
       " 'statut',\n",
       " 'etat commerc',\n",
       " 'agrement col',\n",
       " 'tx rembours',\n",
       " 'forme pharma',\n",
       " 'voies admin',\n",
       " 'statut admin',\n",
       " 'date declar annee',\n",
       " 'date amm annee',\n",
       " 'type proc',\n",
       " 'titulaires',\n",
       " 'substances',\n",
       " 'prix']"
      ]
     },
     "execution_count": 668,
     "metadata": {},
     "output_type": "execute_result"
    }
   ],
   "source": [
    "df.columns.tolist()"
   ]
  },
  {
   "cell_type": "code",
   "execution_count": 669,
   "metadata": {
    "collapsed": false
   },
   "outputs": [
    {
     "data": {
      "text/plain": [
       "False    10355\n",
       "True       474\n",
       "dtype: int64"
      ]
     },
     "execution_count": 669,
     "metadata": {},
     "output_type": "execute_result"
    }
   ],
   "source": [
    "(df['date declar annee'] - df['date amm annee'] < 0).value_counts()"
   ]
  },
  {
   "cell_type": "code",
   "execution_count": 670,
   "metadata": {
    "collapsed": true
   },
   "outputs": [],
   "source": [
    "df['diff_annee'] = df['date declar annee'] - df['date amm annee']"
   ]
  },
  {
   "cell_type": "code",
   "execution_count": 671,
   "metadata": {
    "collapsed": true
   },
   "outputs": [],
   "source": [
    "X = df[[ \n",
    " 'nb_plaquette',\n",
    " 'nb_ampoule',\n",
    " 'nb_flacon',\n",
    " 'nb_tube',\n",
    " 'nb_stylo',\n",
    " 'nb_seringue',\n",
    " 'nb_pilulier',\n",
    " 'nb_sachet',\n",
    " 'nb_comprime',\n",
    " 'nb_gelule',\n",
    " 'nb_film',\n",
    " 'nb_poche',\n",
    " 'nb_capsule',\n",
    " 'nb_ml',\n",
    " 'statut',\n",
    "        'etat commerc',\n",
    " 'agrement col',\n",
    " 'tx rembours',\n",
    " 'forme pharma',\n",
    " 'voies admin',\n",
    " 'statut admin',\n",
    "        'type proc',\n",
    " 'titulaires','substances', 'diff_annee', 'prix'\n",
    "]]\n"
   ]
  },
  {
   "cell_type": "markdown",
   "metadata": {},
   "source": [
    "# Features engineering"
   ]
  },
  {
   "cell_type": "code",
   "execution_count": 672,
   "metadata": {
    "collapsed": false
   },
   "outputs": [
    {
     "name": "stdout",
     "output_type": "stream",
     "text": [
      "['DÉSOGESTREL']\n",
      "['MONTÉLUKAST', 'ACIDE,', 'MONTÉLUKAST', 'SODIQUE']\n",
      "['CHLORHYDRATE', 'DE', 'DILTIAZEM']\n",
      "['ACIDE', 'VALPROÏQUE,', 'VALPROATE', 'DE', 'SODIUM']\n",
      "['FLUTAMIDE']\n",
      "['GLIMÉPIRIDE']\n",
      "['MALÉATE', \"D'ÉNALAPRIL\"]\n",
      "['CEFPODOXIME', 'PROXÉTIL,', 'CEFPODOXIME']\n",
      "['ESTRADIOL,', 'ESTRADIOL', 'HÉMIHYDRATÉ']\n",
      "['PRAVASTATINE', 'SODIQUE']\n"
     ]
    }
   ],
   "source": [
    "for i in range(0, 10):\n",
    "    print(X.substances.ix[i].split())"
   ]
  },
  {
   "cell_type": "code",
   "execution_count": 673,
   "metadata": {
    "collapsed": false
   },
   "outputs": [
    {
     "name": "stderr",
     "output_type": "stream",
     "text": [
      "C:\\Users\\Peter martigny\\Anaconda3\\lib\\site-packages\\ipykernel\\__main__.py:2: SettingWithCopyWarning: \n",
      "A value is trying to be set on a copy of a slice from a DataFrame.\n",
      "Try using .loc[row_indexer,col_indexer] = value instead\n",
      "\n",
      "See the caveats in the documentation: http://pandas.pydata.org/pandas-docs/stable/indexing.html#indexing-view-versus-copy\n",
      "  from ipykernel import kernelapp as app\n"
     ]
    }
   ],
   "source": [
    "# Create column for number of words in substances\n",
    "X['substance_number'] = X['substances'].apply(lambda x: len(x.split()))"
   ]
  },
  {
   "cell_type": "code",
   "execution_count": 674,
   "metadata": {
    "collapsed": false
   },
   "outputs": [
    {
     "name": "stderr",
     "output_type": "stream",
     "text": [
      "C:\\Users\\Peter martigny\\Anaconda3\\lib\\site-packages\\ipykernel\\__main__.py:7: SettingWithCopyWarning: \n",
      "A value is trying to be set on a copy of a slice from a DataFrame.\n",
      "Try using .loc[row_indexer,col_indexer] = value instead\n",
      "\n",
      "See the caveats in the documentation: http://pandas.pydata.org/pandas-docs/stable/indexing.html#indexing-view-versus-copy\n",
      "C:\\Users\\Peter martigny\\Anaconda3\\lib\\site-packages\\ipykernel\\__main__.py:15: SettingWithCopyWarning: \n",
      "A value is trying to be set on a copy of a slice from a DataFrame.\n",
      "Try using .loc[row_indexer,col_indexer] = value instead\n",
      "\n",
      "See the caveats in the documentation: http://pandas.pydata.org/pandas-docs/stable/indexing.html#indexing-view-versus-copy\n",
      "C:\\Users\\Peter martigny\\Anaconda3\\lib\\site-packages\\ipykernel\\__main__.py:23: SettingWithCopyWarning: \n",
      "A value is trying to be set on a copy of a slice from a DataFrame.\n",
      "Try using .loc[row_indexer,col_indexer] = value instead\n",
      "\n",
      "See the caveats in the documentation: http://pandas.pydata.org/pandas-docs/stable/indexing.html#indexing-view-versus-copy\n",
      "C:\\Users\\Peter martigny\\Anaconda3\\lib\\site-packages\\ipykernel\\__main__.py:31: SettingWithCopyWarning: \n",
      "A value is trying to be set on a copy of a slice from a DataFrame.\n",
      "Try using .loc[row_indexer,col_indexer] = value instead\n",
      "\n",
      "See the caveats in the documentation: http://pandas.pydata.org/pandas-docs/stable/indexing.html#indexing-view-versus-copy\n",
      "C:\\Users\\Peter martigny\\Anaconda3\\lib\\site-packages\\ipykernel\\__main__.py:39: SettingWithCopyWarning: \n",
      "A value is trying to be set on a copy of a slice from a DataFrame.\n",
      "Try using .loc[row_indexer,col_indexer] = value instead\n",
      "\n",
      "See the caveats in the documentation: http://pandas.pydata.org/pandas-docs/stable/indexing.html#indexing-view-versus-copy\n",
      "C:\\Users\\Peter martigny\\Anaconda3\\lib\\site-packages\\ipykernel\\__main__.py:47: SettingWithCopyWarning: \n",
      "A value is trying to be set on a copy of a slice from a DataFrame.\n",
      "Try using .loc[row_indexer,col_indexer] = value instead\n",
      "\n",
      "See the caveats in the documentation: http://pandas.pydata.org/pandas-docs/stable/indexing.html#indexing-view-versus-copy\n",
      "C:\\Users\\Peter martigny\\Anaconda3\\lib\\site-packages\\ipykernel\\__main__.py:55: SettingWithCopyWarning: \n",
      "A value is trying to be set on a copy of a slice from a DataFrame.\n",
      "Try using .loc[row_indexer,col_indexer] = value instead\n",
      "\n",
      "See the caveats in the documentation: http://pandas.pydata.org/pandas-docs/stable/indexing.html#indexing-view-versus-copy\n",
      "C:\\Users\\Peter martigny\\Anaconda3\\lib\\site-packages\\ipykernel\\__main__.py:63: SettingWithCopyWarning: \n",
      "A value is trying to be set on a copy of a slice from a DataFrame.\n",
      "Try using .loc[row_indexer,col_indexer] = value instead\n",
      "\n",
      "See the caveats in the documentation: http://pandas.pydata.org/pandas-docs/stable/indexing.html#indexing-view-versus-copy\n",
      "C:\\Users\\Peter martigny\\Anaconda3\\lib\\site-packages\\ipykernel\\__main__.py:71: SettingWithCopyWarning: \n",
      "A value is trying to be set on a copy of a slice from a DataFrame.\n",
      "Try using .loc[row_indexer,col_indexer] = value instead\n",
      "\n",
      "See the caveats in the documentation: http://pandas.pydata.org/pandas-docs/stable/indexing.html#indexing-view-versus-copy\n",
      "C:\\Users\\Peter martigny\\Anaconda3\\lib\\site-packages\\ipykernel\\__main__.py:79: SettingWithCopyWarning: \n",
      "A value is trying to be set on a copy of a slice from a DataFrame.\n",
      "Try using .loc[row_indexer,col_indexer] = value instead\n",
      "\n",
      "See the caveats in the documentation: http://pandas.pydata.org/pandas-docs/stable/indexing.html#indexing-view-versus-copy\n",
      "C:\\Users\\Peter martigny\\Anaconda3\\lib\\site-packages\\ipykernel\\__main__.py:87: SettingWithCopyWarning: \n",
      "A value is trying to be set on a copy of a slice from a DataFrame.\n",
      "Try using .loc[row_indexer,col_indexer] = value instead\n",
      "\n",
      "See the caveats in the documentation: http://pandas.pydata.org/pandas-docs/stable/indexing.html#indexing-view-versus-copy\n",
      "C:\\Users\\Peter martigny\\Anaconda3\\lib\\site-packages\\ipykernel\\__main__.py:95: SettingWithCopyWarning: \n",
      "A value is trying to be set on a copy of a slice from a DataFrame.\n",
      "Try using .loc[row_indexer,col_indexer] = value instead\n",
      "\n",
      "See the caveats in the documentation: http://pandas.pydata.org/pandas-docs/stable/indexing.html#indexing-view-versus-copy\n",
      "C:\\Users\\Peter martigny\\Anaconda3\\lib\\site-packages\\ipykernel\\__main__.py:103: SettingWithCopyWarning: \n",
      "A value is trying to be set on a copy of a slice from a DataFrame.\n",
      "Try using .loc[row_indexer,col_indexer] = value instead\n",
      "\n",
      "See the caveats in the documentation: http://pandas.pydata.org/pandas-docs/stable/indexing.html#indexing-view-versus-copy\n",
      "C:\\Users\\Peter martigny\\Anaconda3\\lib\\site-packages\\ipykernel\\__main__.py:111: SettingWithCopyWarning: \n",
      "A value is trying to be set on a copy of a slice from a DataFrame.\n",
      "Try using .loc[row_indexer,col_indexer] = value instead\n",
      "\n",
      "See the caveats in the documentation: http://pandas.pydata.org/pandas-docs/stable/indexing.html#indexing-view-versus-copy\n",
      "C:\\Users\\Peter martigny\\Anaconda3\\lib\\site-packages\\ipykernel\\__main__.py:119: SettingWithCopyWarning: \n",
      "A value is trying to be set on a copy of a slice from a DataFrame.\n",
      "Try using .loc[row_indexer,col_indexer] = value instead\n",
      "\n",
      "See the caveats in the documentation: http://pandas.pydata.org/pandas-docs/stable/indexing.html#indexing-view-versus-copy\n"
     ]
    }
   ],
   "source": [
    "def alcohol(x):\n",
    "    x = x.lower()\n",
    "    if 'ol' in x:\n",
    "        return 1\n",
    "    else:\n",
    "        return 0\n",
    "X['alcohol'] = X['substances'].apply(lambda x: alcohol(x))\n",
    "\n",
    "def hydro(x):\n",
    "    x = x.lower()\n",
    "    if 'hydr' in x:\n",
    "        return 1\n",
    "    else:\n",
    "        return 0\n",
    "X['hydro'] = X['substances'].apply(lambda x: hydro(x))\n",
    "    \n",
    "def chlor(x):\n",
    "    x = x.lower()\n",
    "    if 'chlor' in x:\n",
    "        return 1\n",
    "    else:\n",
    "        return 0\n",
    "X['chlor'] = X['substances'].apply(lambda x: chlor(x))\n",
    "    \n",
    "def glucose(x):\n",
    "    x = x.lower()\n",
    "    if 'gluc' in x:\n",
    "        return 1\n",
    "    else:\n",
    "        return 0\n",
    "X['glucose'] = X['substances'].apply(lambda x: glucose(x))\n",
    "    \n",
    "def acide(x):\n",
    "    x = x.lower()\n",
    "    if 'acide' in x:\n",
    "        return 1\n",
    "    else:\n",
    "        return 0\n",
    "X['acide'] = X['substances'].apply(lambda x: acide(x))\n",
    "    \n",
    "def ique(x):\n",
    "    x = x.lower()\n",
    "    if ('ique' in x) | ('ïque' in x):\n",
    "        return 1\n",
    "    else:\n",
    "        return 0\n",
    "X['ique'] = X['substances'].apply(lambda x: ique(x)) \n",
    "\n",
    "def ate(x):\n",
    "    x = x.lower()\n",
    "    if 'ate' in x:\n",
    "        return 1\n",
    "    else:\n",
    "        return 0\n",
    "X['ate'] = X['substances'].apply(lambda x: ate(x))\n",
    "    \n",
    "def amine(x):\n",
    "    x = x.lower()\n",
    "    if 'ine' in x:\n",
    "        return 1\n",
    "    else:\n",
    "        return 0\n",
    "X['amine'] = X['substances'].apply(lambda x: amine(x))\n",
    "    \n",
    "def amide(x):\n",
    "    x = x.lower()\n",
    "    if 'ide' in x:\n",
    "        return 1\n",
    "    else:\n",
    "        return 0\n",
    "X['amide'] = X['substances'].apply(lambda x: amide(x))\n",
    "    \n",
    "def di(x):\n",
    "    x = x.lower()\n",
    "    if 'di' in x:\n",
    "        return 1\n",
    "    else:\n",
    "        return 0\n",
    "X['di'] = X['substances'].apply(lambda x: di(x))\n",
    "    \n",
    "def tri(x):\n",
    "    x = x.lower()\n",
    "    if 'tri' in x:\n",
    "        return 1\n",
    "    else:\n",
    "        return 0\n",
    "X['tri'] = X['substances'].apply(lambda x: tri(x))\n",
    "    \n",
    "def des(x):\n",
    "    x = x.lower()\n",
    "    if ('dés' in x) | ('des' in x):\n",
    "        return 1\n",
    "    else:\n",
    "        return 0\n",
    "X['des'] = X['substances'].apply(lambda x: des(x))\n",
    "    \n",
    "def yl(x):\n",
    "    x = x.lower()\n",
    "    if ('il' in x) | ('yl' in x):\n",
    "        return 1\n",
    "    else:\n",
    "        return 0\n",
    "X['yl'] = X['substances'].apply(lambda x: yl(x))\n",
    "    \n",
    "def thio(x):\n",
    "    x = x.lower()\n",
    "    if 'thio' in x:\n",
    "        return 1\n",
    "    else:\n",
    "        return 0\n",
    "X['thio'] = X['substances'].apply(lambda x: thio(x))\n",
    "    \n",
    "def poly(x):\n",
    "    x = x.lower()\n",
    "    if 'poly' in x:\n",
    "        return 1\n",
    "    else:\n",
    "        return 0\n",
    "X['poly'] = X['substances'].apply(lambda x: poly(x))\n",
    "    \n",
    "def sulfure(x):\n",
    "    x = x.lower()\n",
    "    if 'sulf' in x:\n",
    "        return 1\n",
    "    else:\n",
    "        return 0\n",
    "X['sulfure'] = X['substances'].apply(lambda x: sulfure(x))"
   ]
  },
  {
   "cell_type": "code",
   "execution_count": 675,
   "metadata": {
    "collapsed": false
   },
   "outputs": [],
   "source": [
    "X['tx rembours'] = X['tx rembours'].apply(lambda x: float(x[0:-1]))"
   ]
  },
  {
   "cell_type": "markdown",
   "metadata": {},
   "source": [
    "# Separate the 2 datasets"
   ]
  },
  {
   "cell_type": "code",
   "execution_count": 676,
   "metadata": {
    "collapsed": false
   },
   "outputs": [],
   "source": [
    "X = X.drop('substances', axis=1)"
   ]
  },
  {
   "cell_type": "code",
   "execution_count": 685,
   "metadata": {
    "collapsed": false
   },
   "outputs": [],
   "source": [
    "X = pd.get_dummies(X)"
   ]
  },
  {
   "cell_type": "code",
   "execution_count": 687,
   "metadata": {
    "collapsed": false
   },
   "outputs": [
    {
     "data": {
      "text/plain": [
       "0        2.83\n",
       "1       14.30\n",
       "2        5.66\n",
       "3       24.27\n",
       "4       27.17\n",
       "5        6.58\n",
       "6       18.63\n",
       "7        6.13\n",
       "8        6.25\n",
       "9       22.04\n",
       "10       6.36\n",
       "11       9.62\n",
       "12       2.79\n",
       "13       1.33\n",
       "14       9.46\n",
       "15      10.02\n",
       "16       9.79\n",
       "17       6.36\n",
       "18      10.99\n",
       "19      10.32\n",
       "20       1.71\n",
       "21      13.03\n",
       "22       2.53\n",
       "23      12.86\n",
       "24       5.02\n",
       "25       8.14\n",
       "26      13.39\n",
       "27       2.13\n",
       "28      17.05\n",
       "29      20.89\n",
       "        ...  \n",
       "7128     6.36\n",
       "7129    18.42\n",
       "7130     1.89\n",
       "7131    18.63\n",
       "7132    18.88\n",
       "7133    14.30\n",
       "7134    29.45\n",
       "7135     4.31\n",
       "7136     1.08\n",
       "7137    18.14\n",
       "7138    11.43\n",
       "7139     2.01\n",
       "7140     3.15\n",
       "7141     1.20\n",
       "7142    23.31\n",
       "7143    16.46\n",
       "7144     4.71\n",
       "7145     2.23\n",
       "7146     5.71\n",
       "7147     7.72\n",
       "7148     1.97\n",
       "7149     2.85\n",
       "7150    18.95\n",
       "7151    25.74\n",
       "7152    14.20\n",
       "7153     6.12\n",
       "7154     2.12\n",
       "7155     3.94\n",
       "7156    14.21\n",
       "7157     4.82\n",
       "Name: prix, dtype: float64"
      ]
     },
     "execution_count": 687,
     "metadata": {},
     "output_type": "execute_result"
    }
   ],
   "source": [
    "X.prix[0:7158]"
   ]
  },
  {
   "cell_type": "code",
   "execution_count": 688,
   "metadata": {
    "collapsed": true
   },
   "outputs": [],
   "source": [
    "train = X[0:7158]\n",
    "test = X[7159:]"
   ]
  },
  {
   "cell_type": "code",
   "execution_count": 689,
   "metadata": {
    "collapsed": false
   },
   "outputs": [
    {
     "data": {
      "text/plain": [
       "Series([], Name: prix, dtype: float64)"
      ]
     },
     "execution_count": 689,
     "metadata": {},
     "output_type": "execute_result"
    }
   ],
   "source": [
    "train.prix[train.prix == 0]"
   ]
  },
  {
   "cell_type": "code",
   "execution_count": 690,
   "metadata": {
    "collapsed": false
   },
   "outputs": [],
   "source": [
    "train = train[train['diff_annee'] >= 0]"
   ]
  },
  {
   "cell_type": "code",
   "execution_count": 691,
   "metadata": {
    "collapsed": true
   },
   "outputs": [],
   "source": [
    "features_train = train.drop('prix', axis = 1)\n",
    "features_test = test.drop('prix', axis = 1)\n",
    "\n",
    "target_train = train['prix']\n",
    "target_test = test['prix']"
   ]
  },
  {
   "cell_type": "markdown",
   "metadata": {},
   "source": [
    "# Train test split"
   ]
  },
  {
   "cell_type": "code",
   "execution_count": 692,
   "metadata": {
    "collapsed": false
   },
   "outputs": [],
   "source": [
    "from sklearn.cross_validation import train_test_split\n",
    "\n",
    "X_train,X_test,y_train,y_test = train_test_split(features_train,target_train,test_size=0.3, random_state=200)"
   ]
  },
  {
   "cell_type": "code",
   "execution_count": 693,
   "metadata": {
    "collapsed": false
   },
   "outputs": [
    {
     "data": {
      "text/html": [
       "<div>\n",
       "<table border=\"1\" class=\"dataframe\">\n",
       "  <thead>\n",
       "    <tr style=\"text-align: right;\">\n",
       "      <th></th>\n",
       "      <th>nb_plaquette</th>\n",
       "      <th>nb_ampoule</th>\n",
       "      <th>nb_flacon</th>\n",
       "      <th>nb_tube</th>\n",
       "      <th>nb_stylo</th>\n",
       "      <th>nb_seringue</th>\n",
       "      <th>nb_pilulier</th>\n",
       "      <th>nb_sachet</th>\n",
       "      <th>nb_comprime</th>\n",
       "      <th>nb_gelule</th>\n",
       "      <th>...</th>\n",
       "      <th>titulaires_ UCB PHARMA</th>\n",
       "      <th>titulaires_ UCB PHARMA BELGIQUE</th>\n",
       "      <th>titulaires_ UPSA</th>\n",
       "      <th>titulaires_ VEGEFARM</th>\n",
       "      <th>titulaires_ VENIPHARM</th>\n",
       "      <th>titulaires_ VIIV HEALTHCARE UK (ROYAUME-UNI)</th>\n",
       "      <th>titulaires_ VIROPHARMA (BELGIQUE)</th>\n",
       "      <th>titulaires_ WARNER CHILCOTT FRANCE</th>\n",
       "      <th>titulaires_ ZAMBON FRANCE</th>\n",
       "      <th>titulaires_ ZYDUS FRANCE</th>\n",
       "    </tr>\n",
       "  </thead>\n",
       "  <tbody>\n",
       "    <tr>\n",
       "      <th>1009</th>\n",
       "      <td>0</td>\n",
       "      <td>0</td>\n",
       "      <td>0</td>\n",
       "      <td>0</td>\n",
       "      <td>0</td>\n",
       "      <td>0</td>\n",
       "      <td>0</td>\n",
       "      <td>0</td>\n",
       "      <td>7</td>\n",
       "      <td>0</td>\n",
       "      <td>...</td>\n",
       "      <td>0.0</td>\n",
       "      <td>0.0</td>\n",
       "      <td>0.0</td>\n",
       "      <td>0.0</td>\n",
       "      <td>0.0</td>\n",
       "      <td>0.0</td>\n",
       "      <td>0.0</td>\n",
       "      <td>0.0</td>\n",
       "      <td>0.0</td>\n",
       "      <td>0.0</td>\n",
       "    </tr>\n",
       "    <tr>\n",
       "      <th>5687</th>\n",
       "      <td>0</td>\n",
       "      <td>0</td>\n",
       "      <td>0</td>\n",
       "      <td>0</td>\n",
       "      <td>0</td>\n",
       "      <td>0</td>\n",
       "      <td>0</td>\n",
       "      <td>0</td>\n",
       "      <td>12</td>\n",
       "      <td>0</td>\n",
       "      <td>...</td>\n",
       "      <td>0.0</td>\n",
       "      <td>0.0</td>\n",
       "      <td>0.0</td>\n",
       "      <td>0.0</td>\n",
       "      <td>0.0</td>\n",
       "      <td>0.0</td>\n",
       "      <td>0.0</td>\n",
       "      <td>0.0</td>\n",
       "      <td>0.0</td>\n",
       "      <td>1.0</td>\n",
       "    </tr>\n",
       "  </tbody>\n",
       "</table>\n",
       "<p>2 rows × 657 columns</p>\n",
       "</div>"
      ],
      "text/plain": [
       "      nb_plaquette  nb_ampoule  nb_flacon  nb_tube  nb_stylo  nb_seringue  \\\n",
       "1009             0           0          0        0         0            0   \n",
       "5687             0           0          0        0         0            0   \n",
       "\n",
       "      nb_pilulier  nb_sachet  nb_comprime  nb_gelule  \\\n",
       "1009            0          0            7          0   \n",
       "5687            0          0           12          0   \n",
       "\n",
       "                ...             titulaires_ UCB PHARMA  \\\n",
       "1009            ...                                0.0   \n",
       "5687            ...                                0.0   \n",
       "\n",
       "      titulaires_ UCB PHARMA BELGIQUE  titulaires_ UPSA  titulaires_ VEGEFARM  \\\n",
       "1009                              0.0               0.0                   0.0   \n",
       "5687                              0.0               0.0                   0.0   \n",
       "\n",
       "      titulaires_ VENIPHARM  titulaires_ VIIV HEALTHCARE UK (ROYAUME-UNI)  \\\n",
       "1009                    0.0                                           0.0   \n",
       "5687                    0.0                                           0.0   \n",
       "\n",
       "      titulaires_ VIROPHARMA (BELGIQUE)  titulaires_ WARNER CHILCOTT FRANCE  \\\n",
       "1009                                0.0                                 0.0   \n",
       "5687                                0.0                                 0.0   \n",
       "\n",
       "      titulaires_ ZAMBON FRANCE  titulaires_ ZYDUS FRANCE  \n",
       "1009                        0.0                       0.0  \n",
       "5687                        0.0                       1.0  \n",
       "\n",
       "[2 rows x 657 columns]"
      ]
     },
     "execution_count": 693,
     "metadata": {},
     "output_type": "execute_result"
    }
   ],
   "source": [
    "X_train.head(2)"
   ]
  },
  {
   "cell_type": "code",
   "execution_count": 694,
   "metadata": {
    "collapsed": false
   },
   "outputs": [
    {
     "data": {
      "text/plain": [
       "1009     1.88\n",
       "5687    20.15\n",
       "1795    14.30\n",
       "5921     3.18\n",
       "6851    14.15\n",
       "5543     3.06\n",
       "971     12.86\n",
       "3886    20.43\n",
       "934     23.49\n",
       "3533     1.88\n",
       "2588     6.36\n",
       "3955     3.49\n",
       "4602     2.35\n",
       "6869     2.83\n",
       "1507    17.32\n",
       "1707     3.45\n",
       "5223    20.15\n",
       "6118     6.08\n",
       "402      7.73\n",
       "2044    18.63\n",
       "Name: prix, dtype: float64"
      ]
     },
     "execution_count": 694,
     "metadata": {},
     "output_type": "execute_result"
    }
   ],
   "source": [
    "y_train.head(20)"
   ]
  },
  {
   "cell_type": "markdown",
   "metadata": {},
   "source": [
    "# Linear regression"
   ]
  },
  {
   "cell_type": "code",
   "execution_count": 695,
   "metadata": {
    "collapsed": false
   },
   "outputs": [],
   "source": [
    "from sklearn import datasets, linear_model"
   ]
  },
  {
   "cell_type": "code",
   "execution_count": 696,
   "metadata": {
    "collapsed": false
   },
   "outputs": [
    {
     "data": {
      "text/plain": [
       "LinearRegression(copy_X=True, fit_intercept=True, n_jobs=1, normalize=False)"
      ]
     },
     "execution_count": 696,
     "metadata": {},
     "output_type": "execute_result"
    }
   ],
   "source": [
    "regr = linear_model.LinearRegression()\n",
    "regr.fit(X_train, y_train)"
   ]
  },
  {
   "cell_type": "code",
   "execution_count": 697,
   "metadata": {
    "collapsed": false
   },
   "outputs": [
    {
     "data": {
      "text/plain": [
       "-2417380608624233.0"
      ]
     },
     "execution_count": 697,
     "metadata": {},
     "output_type": "execute_result"
    }
   ],
   "source": [
    "regr.score(X_test, y_test)"
   ]
  },
  {
   "cell_type": "code",
   "execution_count": 698,
   "metadata": {
    "collapsed": false
   },
   "outputs": [],
   "source": [
    "y_pred = regr.predict(X_test)"
   ]
  },
  {
   "cell_type": "code",
   "execution_count": 699,
   "metadata": {
    "collapsed": false
   },
   "outputs": [
    {
     "data": {
      "text/plain": [
       "10222773.631781152"
      ]
     },
     "execution_count": 699,
     "metadata": {},
     "output_type": "execute_result"
    }
   ],
   "source": [
    "abs((y_pred - y_test)/y_test).mean()"
   ]
  },
  {
   "cell_type": "code",
   "execution_count": 700,
   "metadata": {
    "collapsed": false
   },
   "outputs": [
    {
     "data": {
      "text/plain": [
       "array([ 9.25323606,  7.8483007 ,  7.89114356, ...,  6.79943824,\n",
       "        3.7735815 ,  6.84912848])"
      ]
     },
     "execution_count": 700,
     "metadata": {},
     "output_type": "execute_result"
    }
   ],
   "source": [
    "y_pred"
   ]
  },
  {
   "cell_type": "code",
   "execution_count": 701,
   "metadata": {
    "collapsed": false
   },
   "outputs": [
    {
     "data": {
      "text/plain": [
       "<matplotlib.collections.PathCollection at 0x1248d8e1470>"
      ]
     },
     "execution_count": 701,
     "metadata": {},
     "output_type": "execute_result"
    },
    {
     "data": {
      "image/png": "[encoded data removed]",
      "text/plain": [
       "<matplotlib.figure.Figure at 0x1248d0926a0>"
      ]
     },
     "metadata": {},
     "output_type": "display_data"
    }
   ],
   "source": [
    "import matplotlib.pyplot as plt\n",
    "plt.scatter(y_pred[(y_pred > 0) & (y_pred < 1000)], y_test[(y_pred > 0) & (y_pred < 1000)])"
   ]
  },
  {
   "cell_type": "code",
   "execution_count": 702,
   "metadata": {
    "collapsed": false
   },
   "outputs": [
    {
     "data": {
      "text/plain": [
       "0.7231028476377388"
      ]
     },
     "execution_count": 702,
     "metadata": {},
     "output_type": "execute_result"
    }
   ],
   "source": [
    "abs((y_pred[(y_pred > 0) & (y_pred < 1000)] - y_test[(y_pred > 0) & (y_pred < 1000)])/y_test[(y_pred > 0) & (y_pred < 1000)]).mean()"
   ]
  },
  {
   "cell_type": "code",
   "execution_count": 703,
   "metadata": {
    "collapsed": false
   },
   "outputs": [
    {
     "name": "stderr",
     "output_type": "stream",
     "text": [
      "C:\\Users\\Peter martigny\\Anaconda3\\lib\\site-packages\\ipykernel\\__main__.py:1: FutureWarning: in the future, boolean array-likes will be handled as a boolean array index\n",
      "  if __name__ == '__main__':\n"
     ]
    },
    {
     "data": {
      "text/plain": [
       "2051"
      ]
     },
     "execution_count": 703,
     "metadata": {},
     "output_type": "execute_result"
    }
   ],
   "source": [
    "len(y_pred[abs((y_pred - y_test)/y_test) > 1])"
   ]
  },
  {
   "cell_type": "code",
   "execution_count": 704,
   "metadata": {
    "collapsed": true
   },
   "outputs": [],
   "source": [
    "from sklearn.cross_validation import cross_val_score"
   ]
  },
  {
   "cell_type": "code",
   "execution_count": 705,
   "metadata": {
    "collapsed": false
   },
   "outputs": [
    {
     "name": "stdout",
     "output_type": "stream",
     "text": [
      "[ -4.13468287e+00  -2.13546558e+08  -3.44625304e+08  -4.20943775e+00\n",
      "  -1.83104918e+08  -1.73143651e+08  -2.22552521e+08  -3.07439729e+08\n",
      "  -8.34359038e+07  -4.29484847e+00]\n"
     ]
    }
   ],
   "source": [
    "scores = cross_val_score(regr, features_train, target_train, cv=10, scoring = \"mean_absolute_error\")\n",
    "print((scores))"
   ]
  },
  {
   "cell_type": "code",
   "execution_count": 706,
   "metadata": {
    "collapsed": false
   },
   "outputs": [
    {
     "name": "stdout",
     "output_type": "stream",
     "text": [
      "[  3.99626439e-01  -1.69372056e+17  -3.43406456e+17   4.04957854e-01\n",
      "  -5.59695474e+16  -2.31474976e+17  -5.55787811e+16  -7.21958794e+16\n",
      "  -3.56536734e+16   3.63848309e-01]\n",
      "-5.57741642385e+16\n"
     ]
    }
   ],
   "source": [
    "scores = cross_val_score(regr, features_train, target_train, cv=10, scoring = \"r2\")\n",
    "print((scores))\n",
    "print(np.median(scores))"
   ]
  },
  {
   "cell_type": "code",
   "execution_count": 707,
   "metadata": {
    "collapsed": false
   },
   "outputs": [
    {
     "data": {
      "text/plain": [
       "(103,)"
      ]
     },
     "execution_count": 707,
     "metadata": {},
     "output_type": "execute_result"
    }
   ],
   "source": [
    "regr.predict(features_test)[regr.predict(features_test) < 0].shape"
   ]
  },
  {
   "cell_type": "markdown",
   "metadata": {},
   "source": [
    "# ElasticNet regression"
   ]
  },
  {
   "cell_type": "code",
   "execution_count": 708,
   "metadata": {
    "collapsed": true
   },
   "outputs": [],
   "source": [
    "from sklearn.linear_model import ElasticNet\n",
    "from sklearn.metrics import r2_score"
   ]
  },
  {
   "cell_type": "code",
   "execution_count": 709,
   "metadata": {
    "collapsed": false
   },
   "outputs": [],
   "source": [
    "alpha = 0.01\n",
    "enet = ElasticNet(alpha=alpha, l1_ratio=0.8)"
   ]
  },
  {
   "cell_type": "code",
   "execution_count": 710,
   "metadata": {
    "collapsed": false
   },
   "outputs": [
    {
     "name": "stdout",
     "output_type": "stream",
     "text": [
      "0.37002359932\n"
     ]
    }
   ],
   "source": [
    "y_pred_enet = enet.fit(X_train, y_train).predict(X_test)\n",
    "r2_score_enet = r2_score(y_test, y_pred_enet)\n",
    "print(r2_score_enet)"
   ]
  },
  {
   "cell_type": "code",
   "execution_count": 711,
   "metadata": {
    "collapsed": false
   },
   "outputs": [
    {
     "data": {
      "text/plain": [
       "0.42707078345444166"
      ]
     },
     "execution_count": 711,
     "metadata": {},
     "output_type": "execute_result"
    }
   ],
   "source": [
    "y_pred = enet.predict(X_test)\n",
    "abs((y_pred - y_test)/y_test).median()"
   ]
  },
  {
   "cell_type": "code",
   "execution_count": 712,
   "metadata": {
    "collapsed": false
   },
   "outputs": [
    {
     "data": {
      "text/plain": [
       "<matplotlib.collections.PathCollection at 0x1248d966208>"
      ]
     },
     "execution_count": 712,
     "metadata": {},
     "output_type": "execute_result"
    },
    {
     "data": {
      "image/png": "[encoded data removed]",
      "text/plain": [
       "<matplotlib.figure.Figure at 0x1248972e6a0>"
      ]
     },
     "metadata": {},
     "output_type": "display_data"
    }
   ],
   "source": [
    "plt.scatter(y_pred, y_test)"
   ]
  },
  {
   "cell_type": "code",
   "execution_count": 713,
   "metadata": {
    "collapsed": false
   },
   "outputs": [],
   "source": [
    "from sklearn.cross_validation import cross_val_score"
   ]
  },
  {
   "cell_type": "code",
   "execution_count": 714,
   "metadata": {
    "collapsed": false
   },
   "outputs": [
    {
     "name": "stdout",
     "output_type": "stream",
     "text": [
      "[ 0.41534329  0.42478229  0.35187791  0.36616359  0.45619509  0.37350927\n",
      "  0.36656491  0.3523426   0.39420059  0.34343445]\n",
      "0.370037089863\n"
     ]
    }
   ],
   "source": [
    "scores = cross_val_score(enet, features_train, target_train, cv=10)\n",
    "print(scores)\n",
    "print(np.median(scores))"
   ]
  },
  {
   "cell_type": "code",
   "execution_count": 715,
   "metadata": {
    "collapsed": false
   },
   "outputs": [
    {
     "data": {
      "text/plain": [
       "(0,)"
      ]
     },
     "execution_count": 715,
     "metadata": {},
     "output_type": "execute_result"
    }
   ],
   "source": [
    "enet.predict(features_test)[enet.predict(features_test) < 0].shape"
   ]
  },
  {
   "cell_type": "markdown",
   "metadata": {},
   "source": [
    "# Random Forest regression"
   ]
  },
  {
   "cell_type": "code",
   "execution_count": 716,
   "metadata": {
    "collapsed": true
   },
   "outputs": [],
   "source": [
    "from sklearn.ensemble.forest import RandomForestRegressor"
   ]
  },
  {
   "cell_type": "code",
   "execution_count": 717,
   "metadata": {
    "collapsed": false
   },
   "outputs": [
    {
     "name": "stdout",
     "output_type": "stream",
     "text": [
      "RandomForestRegressor(bootstrap=True, criterion='mse', max_depth=None,\n",
      "           max_features='auto', max_leaf_nodes=None, min_samples_leaf=1,\n",
      "           min_samples_split=2, min_weight_fraction_leaf=0.0,\n",
      "           n_estimators=10, n_jobs=1, oob_score=False, random_state=None,\n",
      "           verbose=0, warm_start=False)\n",
      "1.0050899982452393\n"
     ]
    }
   ],
   "source": [
    "start = time.time()\n",
    "clf = RandomForestRegressor()\n",
    "print(clf.fit(X_train, y_train))\n",
    "print(time.time() - start)"
   ]
  },
  {
   "cell_type": "code",
   "execution_count": 718,
   "metadata": {
    "collapsed": false
   },
   "outputs": [
    {
     "name": "stdout",
     "output_type": "stream",
     "text": [
      "0.665463779221\n",
      "0.015651464462280273\n"
     ]
    }
   ],
   "source": [
    "start = time.time()\n",
    "print(clf.score(X_test, y_test))\n",
    "print(time.time() - start)"
   ]
  },
  {
   "cell_type": "code",
   "execution_count": 719,
   "metadata": {
    "collapsed": false
   },
   "outputs": [
    {
     "data": {
      "text/plain": [
       "<matplotlib.collections.PathCollection at 0x124895b2320>"
      ]
     },
     "execution_count": 719,
     "metadata": {},
     "output_type": "execute_result"
    },
    {
     "data": {
      "image/png": "[encoded data removed]",
      "text/plain": [
       "<matplotlib.figure.Figure at 0x1248d1e15f8>"
      ]
     },
     "metadata": {},
     "output_type": "display_data"
    }
   ],
   "source": [
    "y_pred = clf.predict(X_test)\n",
    "plt.scatter(y_pred, y_test)"
   ]
  },
  {
   "cell_type": "code",
   "execution_count": 720,
   "metadata": {
    "collapsed": false
   },
   "outputs": [
    {
     "name": "stdout",
     "output_type": "stream",
     "text": [
      "[-4.14645645 -4.28381164 -4.30606462 -4.40380463 -3.96860201 -4.28993559\n",
      " -4.32704658 -4.20081396 -4.14674329 -4.41639276]\n",
      "-4.28687361308\n",
      "2.1513712406158447\n"
     ]
    }
   ],
   "source": [
    "start = time.time()\n",
    "scores = cross_val_score(enet, features_train, target_train, cv=10, scoring = \"mean_absolute_error\")\n",
    "print(scores)\n",
    "print(np.median(scores))\n",
    "print(time.time() - start)"
   ]
  },
  {
   "cell_type": "code",
   "execution_count": 721,
   "metadata": {
    "collapsed": false
   },
   "outputs": [
    {
     "name": "stdout",
     "output_type": "stream",
     "text": [
      "[ 0.41534329  0.42478229  0.35187791  0.36616359  0.45619509  0.37350927\n",
      "  0.36656491  0.3523426   0.39420059  0.34343445]\n",
      "0.370037089863\n",
      "2.186444044113159\n"
     ]
    }
   ],
   "source": [
    "start = time.time()\n",
    "scores = cross_val_score(enet, features_train, target_train, cv=10, scoring = \"r2\")\n",
    "print(scores)\n",
    "print(np.median(scores))\n",
    "print(time.time() - start)"
   ]
  },
  {
   "cell_type": "code",
   "execution_count": 303,
   "metadata": {
    "collapsed": false
   },
   "outputs": [
    {
     "data": {
      "text/plain": [
       "array([   2.469,   22.04 ,   36.92 , ...,    9.546,  103.556,    4.032])"
      ]
     },
     "execution_count": 303,
     "metadata": {},
     "output_type": "execute_result"
    }
   ],
   "source": [
    "clf.predict(features_test)"
   ]
  },
  {
   "cell_type": "markdown",
   "metadata": {},
   "source": [
    "# Boosting"
   ]
  },
  {
   "cell_type": "code",
   "execution_count": 722,
   "metadata": {
    "collapsed": true
   },
   "outputs": [],
   "source": [
    "from sklearn import ensemble\n",
    "params = {'n_estimators': 50, 'max_depth': 4, 'min_samples_split': 2,\n",
    "          'learning_rate': 0.1, 'loss': 'ls'}\n",
    "clf = ensemble.GradientBoostingRegressor(**params)"
   ]
  },
  {
   "cell_type": "code",
   "execution_count": 723,
   "metadata": {
    "collapsed": false
   },
   "outputs": [
    {
     "name": "stdout",
     "output_type": "stream",
     "text": [
      "GradientBoostingRegressor(alpha=0.9, init=None, learning_rate=0.1, loss='ls',\n",
      "             max_depth=4, max_features=None, max_leaf_nodes=None,\n",
      "             min_samples_leaf=1, min_samples_split=2,\n",
      "             min_weight_fraction_leaf=0.0, n_estimators=50, presort='auto',\n",
      "             random_state=None, subsample=1.0, verbose=0, warm_start=False)\n",
      "2.5122318267822266\n"
     ]
    }
   ],
   "source": [
    "start = time.time()\n",
    "print(clf.fit(X_train, y_train))\n",
    "print(time.time() - start)"
   ]
  },
  {
   "cell_type": "code",
   "execution_count": 724,
   "metadata": {
    "collapsed": false
   },
   "outputs": [
    {
     "name": "stdout",
     "output_type": "stream",
     "text": [
      "0.503537850916\n",
      "0.015658855438232422\n"
     ]
    }
   ],
   "source": [
    "start = time.time()\n",
    "print(clf.score(X_test, y_test))\n",
    "print(time.time() - start)"
   ]
  },
  {
   "cell_type": "code",
   "execution_count": 725,
   "metadata": {
    "collapsed": false
   },
   "outputs": [
    {
     "data": {
      "text/plain": [
       "<matplotlib.collections.PathCollection at 0x1248c8114a8>"
      ]
     },
     "execution_count": 725,
     "metadata": {},
     "output_type": "execute_result"
    },
    {
     "data": {
      "image/png": "[encoded data removed]",
      "text/plain": [
       "<matplotlib.figure.Figure at 0x1248d8fc400>"
      ]
     },
     "metadata": {},
     "output_type": "display_data"
    }
   ],
   "source": [
    "y_pred = clf.predict(X_test)\n",
    "plt.scatter(y_pred, y_test)"
   ]
  },
  {
   "cell_type": "code",
   "execution_count": 726,
   "metadata": {
    "collapsed": false
   },
   "outputs": [
    {
     "data": {
      "text/plain": [
       "count    2051.000000\n",
       "mean        0.797122\n",
       "std         1.077040\n",
       "min         0.000384\n",
       "25%         0.145234\n",
       "50%         0.389581\n",
       "75%         0.924179\n",
       "max        10.538245\n",
       "Name: prix, dtype: float64"
      ]
     },
     "execution_count": 726,
     "metadata": {},
     "output_type": "execute_result"
    }
   ],
   "source": [
    "abs((y_pred - y_test)/y_test).describe()"
   ]
  },
  {
   "cell_type": "code",
   "execution_count": 727,
   "metadata": {
    "collapsed": false
   },
   "outputs": [
    {
     "data": {
      "text/plain": [
       "<matplotlib.axes._subplots.AxesSubplot at 0x1248c7e8438>"
      ]
     },
     "execution_count": 727,
     "metadata": {},
     "output_type": "execute_result"
    },
    {
     "data": {
      "image/png": "[encoded data removed]",
      "text/plain": [
       "<matplotlib.figure.Figure at 0x1248cefcf28>"
      ]
     },
     "metadata": {},
     "output_type": "display_data"
    }
   ],
   "source": [
    "abs((y_pred - y_test)/y_test).hist(bins = 100)"
   ]
  },
  {
   "cell_type": "code",
   "execution_count": 492,
   "metadata": {
    "collapsed": false
   },
   "outputs": [
    {
     "data": {
      "text/plain": [
       "0.7072333469554557"
      ]
     },
     "execution_count": 492,
     "metadata": {},
     "output_type": "execute_result"
    }
   ],
   "source": [
    "X.libelle_plaquette.mean()"
   ]
  },
  {
   "cell_type": "code",
   "execution_count": 493,
   "metadata": {
    "collapsed": false
   },
   "outputs": [
    {
     "data": {
      "text/plain": [
       "['index',\n",
       " 'libelle',\n",
       " 'libelle_plaquette',\n",
       " 'libelle_ampoule',\n",
       " 'libelle_flacon',\n",
       " 'libelle_tube',\n",
       " 'libelle_stylo',\n",
       " 'libelle_seringue',\n",
       " 'libelle_pilulier',\n",
       " 'libelle_sachet',\n",
       " 'libelle_comprime',\n",
       " 'libelle_gelule',\n",
       " 'libelle_film',\n",
       " 'libelle_poche',\n",
       " 'libelle_capsule',\n",
       " 'nb_plaquette',\n",
       " 'nb_ampoule',\n",
       " 'nb_flacon',\n",
       " 'nb_tube',\n",
       " 'nb_stylo',\n",
       " 'nb_seringue',\n",
       " 'nb_pilulier',\n",
       " 'nb_sachet',\n",
       " 'nb_comprime',\n",
       " 'nb_gelule',\n",
       " 'nb_film',\n",
       " 'nb_poche',\n",
       " 'nb_capsule',\n",
       " 'nb_ml',\n",
       " 'statut',\n",
       " 'etat commerc',\n",
       " 'agrement col',\n",
       " 'tx rembours',\n",
       " 'forme pharma',\n",
       " 'voies admin',\n",
       " 'statut admin',\n",
       " 'date declar annee',\n",
       " 'date amm annee',\n",
       " 'type proc',\n",
       " 'titulaires',\n",
       " 'substances',\n",
       " 'prix',\n",
       " 'diff_annee']"
      ]
     },
     "execution_count": 493,
     "metadata": {},
     "output_type": "execute_result"
    }
   ],
   "source": [
    "df.columns.tolist()"
   ]
  },
  {
   "cell_type": "code",
   "execution_count": 497,
   "metadata": {
    "collapsed": false
   },
   "outputs": [
    {
     "data": {
      "text/plain": [
       "count    12235.000000\n",
       "mean        19.970033\n",
       "std         69.339920\n",
       "min          0.000000\n",
       "25%          0.000000\n",
       "50%          4.740000\n",
       "75%         14.680000\n",
       "max        990.390000\n",
       "Name: prix, dtype: float64"
      ]
     },
     "execution_count": 497,
     "metadata": {},
     "output_type": "execute_result"
    }
   ],
   "source": [
    "df.prix.describe()"
   ]
  },
  {
   "cell_type": "code",
   "execution_count": null,
   "metadata": {
    "collapsed": true
   },
   "outputs": [],
   "source": []
  }
 ],
 "metadata": {
  "anaconda-cloud": {},
  "kernelspec": {
   "display_name": "Python [Root]",
   "language": "python",
   "name": "Python [Root]"
  },
  "language_info": {
   "codemirror_mode": {
    "name": "ipython",
    "version": 3
   },
   "file_extension": ".py",
   "mimetype": "text/x-python",
   "name": "python",
   "nbconvert_exporter": "python",
   "pygments_lexer": "ipython3",
   "version": "3.5.2"
  }
 },
 "nbformat": 4,
 "nbformat_minor": 0
}
